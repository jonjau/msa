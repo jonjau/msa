{
 "cells": [
  {
   "cell_type": "markdown",
   "metadata": {},
   "source": [
    "# News Categorizer\n",
    "\n",
    "Predicting news article categories by headline text.\n",
    "\n",
    "Compares three models: Naive Bayes, SGD, and neural network, then\n",
    "applies the trained neural network to roughly categorize 2020 New York Times headlines.\n",
    "\n",
    "> The dataset is from https://www.kaggle.com/uciml/news-aggregator-dataset.\n",
    ">\n",
    "> It contains headlines, URLs, and categories for 422,937 news stories\n",
    "collected by a web aggregator between March 10th, 2014 and August 10th, 2014.\n",
    ">\n",
    "> Lichman, M. (2013). UCI Machine Learning Repository [http://archive.ics.uci.edu/ml]. Irvine, CA: University of California, School of Information and Computer Science."
   ]
  },
  {
   "cell_type": "code",
   "execution_count": 1,
   "metadata": {},
   "outputs": [
    {
     "name": "stderr",
     "output_type": "stream",
     "text": [
      "Using TensorFlow backend.\n"
     ]
    }
   ],
   "source": [
    "import pandas as pd\n",
    "import numpy as np\n",
    "import matplotlib.pyplot as plt\n",
    "import seaborn as sns\n",
    "\n",
    "import unicodedata\n",
    "import time\n",
    "import string\n",
    "import os\n",
    "import csv\n",
    "import re\n",
    "\n",
    "from sklearn.model_selection import train_test_split\n",
    "from sklearn.naive_bayes import MultinomialNB\n",
    "from sklearn.linear_model import SGDClassifier\n",
    "from sklearn.feature_extraction.text import CountVectorizer\n",
    "from sklearn.preprocessing import LabelEncoder, OneHotEncoder\n",
    "from sklearn.metrics import confusion_matrix\n",
    "\n",
    "from keras.preprocessing.text import Tokenizer\n",
    "from keras.preprocessing.sequence import pad_sequences\n",
    "from keras.models import Sequential\n",
    "from keras.layers import Dense\n",
    "from keras.layers.embeddings import Embedding\n",
    "from keras.layers import Flatten"
   ]
  },
  {
   "cell_type": "markdown",
   "metadata": {},
   "source": [
    "## Retrieve raw data\n",
    "\n",
    "Read dataset as a CSV from local file."
   ]
  },
  {
   "cell_type": "code",
   "execution_count": 2,
   "metadata": {},
   "outputs": [
    {
     "name": "stdout",
     "output_type": "stream",
     "text": [
      "Retrieving raw data...\n",
      "Read CSV file from local copy of dataset.\n",
      "(422419, 7)\n"
     ]
    },
    {
     "data": {
      "text/html": [
       "<div>\n",
       "<style scoped>\n",
       "    .dataframe tbody tr th:only-of-type {\n",
       "        vertical-align: middle;\n",
       "    }\n",
       "\n",
       "    .dataframe tbody tr th {\n",
       "        vertical-align: top;\n",
       "    }\n",
       "\n",
       "    .dataframe thead th {\n",
       "        text-align: right;\n",
       "    }\n",
       "</style>\n",
       "<table border=\"1\" class=\"dataframe\">\n",
       "  <thead>\n",
       "    <tr style=\"text-align: right;\">\n",
       "      <th></th>\n",
       "      <th>TITLE</th>\n",
       "      <th>URL</th>\n",
       "      <th>PUBLISHER</th>\n",
       "      <th>CATEGORY</th>\n",
       "      <th>STORY</th>\n",
       "      <th>HOSTNAME</th>\n",
       "      <th>TIMESTAMP</th>\n",
       "    </tr>\n",
       "    <tr>\n",
       "      <th>ID</th>\n",
       "      <th></th>\n",
       "      <th></th>\n",
       "      <th></th>\n",
       "      <th></th>\n",
       "      <th></th>\n",
       "      <th></th>\n",
       "      <th></th>\n",
       "    </tr>\n",
       "  </thead>\n",
       "  <tbody>\n",
       "    <tr>\n",
       "      <th>1</th>\n",
       "      <td>Fed official says weak data caused by weather,...</td>\n",
       "      <td>http://www.latimes.com/business/money/la-fi-mo...</td>\n",
       "      <td>Los Angeles Times</td>\n",
       "      <td>b</td>\n",
       "      <td>ddUyU0VZz0BRneMioxUPQVP6sIxvM</td>\n",
       "      <td>www.latimes.com</td>\n",
       "      <td>1394470370698</td>\n",
       "    </tr>\n",
       "    <tr>\n",
       "      <th>2</th>\n",
       "      <td>Fed's Charles Plosser sees high bar for change...</td>\n",
       "      <td>http://www.livemint.com/Politics/H2EvwJSK2VE6O...</td>\n",
       "      <td>Livemint</td>\n",
       "      <td>b</td>\n",
       "      <td>ddUyU0VZz0BRneMioxUPQVP6sIxvM</td>\n",
       "      <td>www.livemint.com</td>\n",
       "      <td>1394470371207</td>\n",
       "    </tr>\n",
       "    <tr>\n",
       "      <th>3</th>\n",
       "      <td>US open: Stocks fall after Fed official hints ...</td>\n",
       "      <td>http://www.ifamagazine.com/news/us-open-stocks...</td>\n",
       "      <td>IFA Magazine</td>\n",
       "      <td>b</td>\n",
       "      <td>ddUyU0VZz0BRneMioxUPQVP6sIxvM</td>\n",
       "      <td>www.ifamagazine.com</td>\n",
       "      <td>1394470371550</td>\n",
       "    </tr>\n",
       "    <tr>\n",
       "      <th>4</th>\n",
       "      <td>Fed risks falling 'behind the curve', Charles ...</td>\n",
       "      <td>http://www.ifamagazine.com/news/fed-risks-fall...</td>\n",
       "      <td>IFA Magazine</td>\n",
       "      <td>b</td>\n",
       "      <td>ddUyU0VZz0BRneMioxUPQVP6sIxvM</td>\n",
       "      <td>www.ifamagazine.com</td>\n",
       "      <td>1394470371793</td>\n",
       "    </tr>\n",
       "    <tr>\n",
       "      <th>5</th>\n",
       "      <td>Fed's Plosser: Nasty Weather Has Curbed Job Gr...</td>\n",
       "      <td>http://www.moneynews.com/Economy/federal-reser...</td>\n",
       "      <td>Moneynews</td>\n",
       "      <td>b</td>\n",
       "      <td>ddUyU0VZz0BRneMioxUPQVP6sIxvM</td>\n",
       "      <td>www.moneynews.com</td>\n",
       "      <td>1394470372027</td>\n",
       "    </tr>\n",
       "  </tbody>\n",
       "</table>\n",
       "</div>"
      ],
      "text/plain": [
       "                                                TITLE  \\\n",
       "ID                                                      \n",
       "1   Fed official says weak data caused by weather,...   \n",
       "2   Fed's Charles Plosser sees high bar for change...   \n",
       "3   US open: Stocks fall after Fed official hints ...   \n",
       "4   Fed risks falling 'behind the curve', Charles ...   \n",
       "5   Fed's Plosser: Nasty Weather Has Curbed Job Gr...   \n",
       "\n",
       "                                                  URL          PUBLISHER  \\\n",
       "ID                                                                         \n",
       "1   http://www.latimes.com/business/money/la-fi-mo...  Los Angeles Times   \n",
       "2   http://www.livemint.com/Politics/H2EvwJSK2VE6O...           Livemint   \n",
       "3   http://www.ifamagazine.com/news/us-open-stocks...       IFA Magazine   \n",
       "4   http://www.ifamagazine.com/news/fed-risks-fall...       IFA Magazine   \n",
       "5   http://www.moneynews.com/Economy/federal-reser...          Moneynews   \n",
       "\n",
       "   CATEGORY                          STORY             HOSTNAME      TIMESTAMP  \n",
       "ID                                                                              \n",
       "1         b  ddUyU0VZz0BRneMioxUPQVP6sIxvM      www.latimes.com  1394470370698  \n",
       "2         b  ddUyU0VZz0BRneMioxUPQVP6sIxvM     www.livemint.com  1394470371207  \n",
       "3         b  ddUyU0VZz0BRneMioxUPQVP6sIxvM  www.ifamagazine.com  1394470371550  \n",
       "4         b  ddUyU0VZz0BRneMioxUPQVP6sIxvM  www.ifamagazine.com  1394470371793  \n",
       "5         b  ddUyU0VZz0BRneMioxUPQVP6sIxvM    www.moneynews.com  1394470372027  "
      ]
     },
     "execution_count": 2,
     "metadata": {},
     "output_type": "execute_result"
    }
   ],
   "source": [
    "print('Retrieving raw data...')\n",
    "news_df = pd.read_csv(os.path.join('news-data', 'uci-news-aggregator.csv'), header=0, index_col=0, dtype=str)\n",
    "print('Read CSV file from local copy of dataset.')\n",
    "print(news_df.shape)\n",
    "news_df.head()"
   ]
  },
  {
   "cell_type": "markdown",
   "metadata": {},
   "source": [
    "## Pre-preprocessing\n",
    "\n",
    "Preprocessing transformations that can happen before the train/test split are those that are not dependent on the values contained in the dataset itself.\n",
    "\n",
    "Such steps are:\n",
    "\n",
    "* Checking for null values\n",
    "* Renaming columns\n",
    "* Standardising case\n",
    "* Removing punctuation\n",
    "\n",
    "There are 2 null values in `PUBLISHER`,\n",
    "but that field is neither a relevant feature nor the label to be predicted."
   ]
  },
  {
   "cell_type": "code",
   "execution_count": 3,
   "metadata": {},
   "outputs": [
    {
     "data": {
      "text/plain": [
       "TITLE        0\n",
       "URL          0\n",
       "PUBLISHER    2\n",
       "CATEGORY     0\n",
       "STORY        0\n",
       "HOSTNAME     0\n",
       "TIMESTAMP    0\n",
       "dtype: int64"
      ]
     },
     "execution_count": 3,
     "metadata": {},
     "output_type": "execute_result"
    }
   ],
   "source": [
    "# Check for null values\n",
    "news_df.isnull().sum()"
   ]
  },
  {
   "cell_type": "code",
   "execution_count": 4,
   "metadata": {},
   "outputs": [],
   "source": [
    "# Make labels more intuitive and human-readable\n",
    "CATEGORY_DICT = {\n",
    "    'b':'business',\n",
    "    'e':'entertainment',\n",
    "    'm':'health',\n",
    "    't':'science/technology'\n",
    "}\n",
    "\n",
    "news_df['CATEGORY'] = news_df['CATEGORY'].map(CATEGORY_DICT)"
   ]
  },
  {
   "cell_type": "code",
   "execution_count": 5,
   "metadata": {},
   "outputs": [],
   "source": [
    "def remove_punctuation(s1):\n",
    "    \"\"\"\n",
    "    Returns s1 unicode-normalised without punctuation.\n",
    "    \"\"\"\n",
    "    s1 = s1.translate(str.maketrans('', '', string.punctuation))\n",
    "\n",
    "    return unicodedata.normalize(\"NFKD\", s1)"
   ]
  },
  {
   "cell_type": "markdown",
   "metadata": {},
   "source": [
    "The relevant feature is the headline text (in `TITLE`), and the label is the news category (in `CATEGORY`)."
   ]
  },
  {
   "cell_type": "code",
   "execution_count": 6,
   "metadata": {},
   "outputs": [
    {
     "name": "stdout",
     "output_type": "stream",
     "text": [
      "Standardising case and removing punctuation...\n"
     ]
    },
    {
     "data": {
      "text/html": [
       "<div>\n",
       "<style scoped>\n",
       "    .dataframe tbody tr th:only-of-type {\n",
       "        vertical-align: middle;\n",
       "    }\n",
       "\n",
       "    .dataframe tbody tr th {\n",
       "        vertical-align: top;\n",
       "    }\n",
       "\n",
       "    .dataframe thead th {\n",
       "        text-align: right;\n",
       "    }\n",
       "</style>\n",
       "<table border=\"1\" class=\"dataframe\">\n",
       "  <thead>\n",
       "    <tr style=\"text-align: right;\">\n",
       "      <th></th>\n",
       "      <th>TITLE</th>\n",
       "      <th>URL</th>\n",
       "      <th>PUBLISHER</th>\n",
       "      <th>CATEGORY</th>\n",
       "      <th>STORY</th>\n",
       "      <th>HOSTNAME</th>\n",
       "      <th>TIMESTAMP</th>\n",
       "    </tr>\n",
       "    <tr>\n",
       "      <th>ID</th>\n",
       "      <th></th>\n",
       "      <th></th>\n",
       "      <th></th>\n",
       "      <th></th>\n",
       "      <th></th>\n",
       "      <th></th>\n",
       "      <th></th>\n",
       "    </tr>\n",
       "  </thead>\n",
       "  <tbody>\n",
       "    <tr>\n",
       "      <th>1</th>\n",
       "      <td>fed official says weak data caused by weather ...</td>\n",
       "      <td>http://www.latimes.com/business/money/la-fi-mo...</td>\n",
       "      <td>Los Angeles Times</td>\n",
       "      <td>business</td>\n",
       "      <td>ddUyU0VZz0BRneMioxUPQVP6sIxvM</td>\n",
       "      <td>www.latimes.com</td>\n",
       "      <td>1394470370698</td>\n",
       "    </tr>\n",
       "    <tr>\n",
       "      <th>2</th>\n",
       "      <td>feds charles plosser sees high bar for change ...</td>\n",
       "      <td>http://www.livemint.com/Politics/H2EvwJSK2VE6O...</td>\n",
       "      <td>Livemint</td>\n",
       "      <td>business</td>\n",
       "      <td>ddUyU0VZz0BRneMioxUPQVP6sIxvM</td>\n",
       "      <td>www.livemint.com</td>\n",
       "      <td>1394470371207</td>\n",
       "    </tr>\n",
       "    <tr>\n",
       "      <th>3</th>\n",
       "      <td>us open stocks fall after fed official hints a...</td>\n",
       "      <td>http://www.ifamagazine.com/news/us-open-stocks...</td>\n",
       "      <td>IFA Magazine</td>\n",
       "      <td>business</td>\n",
       "      <td>ddUyU0VZz0BRneMioxUPQVP6sIxvM</td>\n",
       "      <td>www.ifamagazine.com</td>\n",
       "      <td>1394470371550</td>\n",
       "    </tr>\n",
       "    <tr>\n",
       "      <th>4</th>\n",
       "      <td>fed risks falling behind the curve charles plo...</td>\n",
       "      <td>http://www.ifamagazine.com/news/fed-risks-fall...</td>\n",
       "      <td>IFA Magazine</td>\n",
       "      <td>business</td>\n",
       "      <td>ddUyU0VZz0BRneMioxUPQVP6sIxvM</td>\n",
       "      <td>www.ifamagazine.com</td>\n",
       "      <td>1394470371793</td>\n",
       "    </tr>\n",
       "    <tr>\n",
       "      <th>5</th>\n",
       "      <td>feds plosser nasty weather has curbed job growth</td>\n",
       "      <td>http://www.moneynews.com/Economy/federal-reser...</td>\n",
       "      <td>Moneynews</td>\n",
       "      <td>business</td>\n",
       "      <td>ddUyU0VZz0BRneMioxUPQVP6sIxvM</td>\n",
       "      <td>www.moneynews.com</td>\n",
       "      <td>1394470372027</td>\n",
       "    </tr>\n",
       "  </tbody>\n",
       "</table>\n",
       "</div>"
      ],
      "text/plain": [
       "                                                TITLE  \\\n",
       "ID                                                      \n",
       "1   fed official says weak data caused by weather ...   \n",
       "2   feds charles plosser sees high bar for change ...   \n",
       "3   us open stocks fall after fed official hints a...   \n",
       "4   fed risks falling behind the curve charles plo...   \n",
       "5    feds plosser nasty weather has curbed job growth   \n",
       "\n",
       "                                                  URL          PUBLISHER  \\\n",
       "ID                                                                         \n",
       "1   http://www.latimes.com/business/money/la-fi-mo...  Los Angeles Times   \n",
       "2   http://www.livemint.com/Politics/H2EvwJSK2VE6O...           Livemint   \n",
       "3   http://www.ifamagazine.com/news/us-open-stocks...       IFA Magazine   \n",
       "4   http://www.ifamagazine.com/news/fed-risks-fall...       IFA Magazine   \n",
       "5   http://www.moneynews.com/Economy/federal-reser...          Moneynews   \n",
       "\n",
       "    CATEGORY                          STORY             HOSTNAME  \\\n",
       "ID                                                                 \n",
       "1   business  ddUyU0VZz0BRneMioxUPQVP6sIxvM      www.latimes.com   \n",
       "2   business  ddUyU0VZz0BRneMioxUPQVP6sIxvM     www.livemint.com   \n",
       "3   business  ddUyU0VZz0BRneMioxUPQVP6sIxvM  www.ifamagazine.com   \n",
       "4   business  ddUyU0VZz0BRneMioxUPQVP6sIxvM  www.ifamagazine.com   \n",
       "5   business  ddUyU0VZz0BRneMioxUPQVP6sIxvM    www.moneynews.com   \n",
       "\n",
       "        TIMESTAMP  \n",
       "ID                 \n",
       "1   1394470370698  \n",
       "2   1394470371207  \n",
       "3   1394470371550  \n",
       "4   1394470371793  \n",
       "5   1394470372027  "
      ]
     },
     "execution_count": 6,
     "metadata": {},
     "output_type": "execute_result"
    }
   ],
   "source": [
    "print('Standardising case and removing punctuation...')\n",
    "\n",
    "# Make all the headlines lowercase and remove punctuation\n",
    "news_df['TITLE'] = news_df['TITLE'].str.lower()\n",
    "news_df['TITLE'] = news_df['TITLE'].apply(remove_punctuation)\n",
    "\n",
    "# Designate features and labels\n",
    "features = news_df[['TITLE']]\n",
    "labels = news_df[['CATEGORY']]\n",
    "\n",
    "news_df.head()"
   ]
  },
  {
   "cell_type": "code",
   "execution_count": 7,
   "metadata": {},
   "outputs": [
    {
     "name": "stdout",
     "output_type": "stream",
     "text": [
      "There are 4 news categories\n",
      "Saving as output/training_data_composition.png...\n"
     ]
    },
    {
     "data": {
      "text/plain": [
       "<Figure size 432x288 with 0 Axes>"
      ]
     },
     "metadata": {},
     "output_type": "display_data"
    },
    {
     "data": {
      "image/png": "[encoded data removed]",
      "text/plain": [
       "<Figure size 432x432 with 1 Axes>"
      ]
     },
     "metadata": {},
     "output_type": "display_data"
    }
   ],
   "source": [
    "count_df = pd.DataFrame(news_df['CATEGORY'].value_counts()).reset_index()\n",
    "print('There are', len(count_df), 'news categories')\n",
    "\n",
    "plt.clf()\n",
    "sns.set_style('darkgrid')\n",
    "plt.figure(figsize=(6,6))\n",
    "sns.barplot(data=count_df, y='index', x='CATEGORY', palette='Dark2')\n",
    "plt.title('Number of news articles in each category', loc='left', fontsize=14)\n",
    "plt.xlabel(\"\")\n",
    "plt.ylabel(\"\")\n",
    "plt.tight_layout()\n",
    "plt.savefig(os.path.join('output', 'training_data_composition.png'))\n",
    "print('Saving as output/training_data_composition.png...')\n",
    "plt.plot();"
   ]
  },
  {
   "cell_type": "markdown",
   "metadata": {},
   "source": [
    "# Statistical machine learning approach, naive Bayes and SGD\n",
    "\n",
    "We use `sklearn`'s implementations of both models."
   ]
  },
  {
   "cell_type": "code",
   "execution_count": 8,
   "metadata": {},
   "outputs": [
    {
     "name": "stdout",
     "output_type": "stream",
     "text": [
      "===== Naive Bayes and SGD =====\n"
     ]
    },
    {
     "data": {
      "text/plain": [
       "((337935, 1), (84484, 1), (337935, 1), (84484, 1))"
      ]
     },
     "execution_count": 8,
     "metadata": {},
     "output_type": "execute_result"
    }
   ],
   "source": [
    "print('===== Naive Bayes and SGD =====')\n",
    "\n",
    "# split into train and test sets\n",
    "x_train, x_test, y_train, y_test = train_test_split(features, labels, test_size=0.2)\n",
    "\n",
    "x_train.shape, x_test.shape, y_train.shape, y_test.shape"
   ]
  },
  {
   "cell_type": "markdown",
   "metadata": {},
   "source": [
    "## Preprocessing\n",
    "\n",
    "In each instance, we avoid data leakage by\n",
    "\"fitting on train and transforming both train and test\".\n",
    "\n",
    "This ensures that information contained in the test set\n",
    "is not factored in by the model at training time (avoids over-optimistic results).\n",
    "\n",
    "\n",
    "The preprocessing steps are shared between naive Bayes and SGD:\n",
    "\n",
    "* Convert text (the single feature) into count vectors (**removing stop words in the process**)\n",
    "* Encode the categories (the label)"
   ]
  },
  {
   "cell_type": "code",
   "execution_count": 9,
   "metadata": {},
   "outputs": [
    {
     "name": "stdout",
     "output_type": "stream",
     "text": [
      "Vectorising text into features and encoding categorical labels...\n",
      "Preprocessing for Naive Bayes and SGD took 7.7970709800720215 seconds.\n"
     ]
    }
   ],
   "source": [
    "start_time = time.time()\n",
    "\n",
    "print('Vectorising text into features and encoding categorical labels...')\n",
    "\n",
    "# Turn text into integer count vectors\n",
    "vectorizer = CountVectorizer(stop_words = 'english')\n",
    "vectorizer.fit(x_train['TITLE'])\n",
    "\n",
    "x_train = vectorizer.transform(x_train['TITLE'])\n",
    "x_test = vectorizer.transform(x_test['TITLE'])\n",
    "\n",
    "# Turn categories into integers\n",
    "# 0: business, 1: entertainment, 2: health, 3: science/technology\n",
    "encoder = LabelEncoder()\n",
    "encoder.fit(y_train['CATEGORY'])\n",
    "\n",
    "y_train = encoder.transform(y_train['CATEGORY'])\n",
    "y_test = encoder.transform(y_test['CATEGORY'])\n",
    "\n",
    "duration = time.time() - start_time\n",
    "print(f'Preprocessing for Naive Bayes and SGD took {duration} seconds.')"
   ]
  },
  {
   "cell_type": "markdown",
   "metadata": {},
   "source": [
    "## Training and evaluating the models\n",
    "\n",
    "Both models' accuracies are high, above 90%, with default parameters.\n",
    "\n",
    "SGD outperforms the Naive Bayes **(\\~93.7% compared to \\~92.6% in the sample run)**, but takes slightly longer to train."
   ]
  },
  {
   "cell_type": "code",
   "execution_count": 10,
   "metadata": {},
   "outputs": [
    {
     "name": "stdout",
     "output_type": "stream",
     "text": [
      "Training and evaluating Naive Bayes...\n",
      "Training the Naive Bayes model took 0.08646726608276367 seconds.\n",
      "Multinomial Naive Bayes accuracy:\n",
      "0.9303536764357748\n"
     ]
    }
   ],
   "source": [
    "print('Training and evaluating Naive Bayes...')\n",
    "start_time = time.time()\n",
    "\n",
    "# Naive Bayes model\n",
    "nb = MultinomialNB()\n",
    "nb.fit(x_train, y_train)\n",
    "\n",
    "duration = time.time() - start_time\n",
    "print(f'Training the Naive Bayes model took {duration} seconds.')\n",
    "\n",
    "score = nb.score(x_test, y_test)\n",
    "print(f'Multinomial Naive Bayes accuracy:\\n{score}')"
   ]
  },
  {
   "cell_type": "code",
   "execution_count": 11,
   "metadata": {},
   "outputs": [
    {
     "name": "stdout",
     "output_type": "stream",
     "text": [
      "Training and evaluating SGD...\n",
      "Training the SGD model took 2.6988070011138916 seconds.\n",
      "SGD classsifier accuracy:\n",
      "0.937289901046352\n"
     ]
    }
   ],
   "source": [
    "print('Training and evaluating SGD...')\n",
    "start_time = time.time()\n",
    "\n",
    "# Stochastic gradient descent classifier\n",
    "sgd = SGDClassifier(early_stopping=True)\n",
    "sgd.fit(x_train, y_train)\n",
    "\n",
    "duration = time.time() - start_time\n",
    "print(f'Training the SGD model took {duration} seconds.')\n",
    "\n",
    "score = sgd.score(x_test, y_test)\n",
    "print(f'SGD classsifier accuracy:\\n{score}')"
   ]
  },
  {
   "cell_type": "markdown",
   "metadata": {},
   "source": [
    "### Some other classifier models\n",
    "\n",
    "These models are relatively slow to train, and underperformed in tests."
   ]
  },
  {
   "cell_type": "code",
   "execution_count": 12,
   "metadata": {},
   "outputs": [],
   "source": [
    "# from sklearn.svm import LinearSVC\n",
    "\n",
    "# svc = LinearSVC()\n",
    "# svc.fit(x_train, y_train)\n",
    "# svc.score(x_test, y_test)"
   ]
  },
  {
   "cell_type": "code",
   "execution_count": 13,
   "metadata": {},
   "outputs": [],
   "source": [
    "# from sklearn.ensemble import RandomForestClassifier\n",
    "\n",
    "# forest = RandomForestClassifier()\n",
    "# forest = forest.fit(x_train, y_train)\n",
    "# forest.score(x_test, y_test)"
   ]
  },
  {
   "cell_type": "markdown",
   "metadata": {},
   "source": [
    "## Visualizing the predictions\n",
    "\n",
    "We use `seaborn`'s heatmap to visualise the confusion matrices."
   ]
  },
  {
   "cell_type": "code",
   "execution_count": 14,
   "metadata": {},
   "outputs": [],
   "source": [
    "def visualise_confusion_matrix(model_name, confusion_matrix, cmap='YlOrBr'):\n",
    "    '''\n",
    "    Displays the given confusion matrix for the given model name.\n",
    "    '''\n",
    "\n",
    "    cm = pd.DataFrame(confusion_matrix)\n",
    "    plt.clf()\n",
    "    sns.set(font_scale = 1)\n",
    "    plt.figure(figsize = (8,8))\n",
    "    \n",
    "    # x and y labels are based on the global CATEGORY_DICT\n",
    "    sns.heatmap(cm, cmap = cmap,linewidths = 1, annot = True,square = True, fmt='d', cbar = False,\n",
    "                xticklabels = CATEGORY_DICT.values(),\n",
    "                yticklabels = CATEGORY_DICT.values())\n",
    "    plt.xticks(rotation = 0)\n",
    "    plt.yticks(rotation = 0)\n",
    "    plt.title(f'Confusion Matrix for {model_name}')\n",
    "    plt.xlabel('Predicted Classes', rotation=0)\n",
    "    plt.ylabel('Actual Classes', rotation=0)\n",
    "    plt.tight_layout()\n",
    "    plt.plot()\n",
    "    plt.savefig(os.path.join('output', f'confusion_matrix_{model_name}.png'))\n",
    "    print(f'Saving as output/confusion_matrix_{model_name}.png...')\n",
    "    "
   ]
  },
  {
   "cell_type": "markdown",
   "metadata": {},
   "source": [
    "### Visualize Naive Bayes"
   ]
  },
  {
   "cell_type": "code",
   "execution_count": 15,
   "metadata": {},
   "outputs": [
    {
     "name": "stdout",
     "output_type": "stream",
     "text": [
      "Saving as output/confusion_matrix_Naive Bayes.png...\n"
     ]
    },
    {
     "data": {
      "text/plain": [
       "<Figure size 432x288 with 0 Axes>"
      ]
     },
     "metadata": {},
     "output_type": "display_data"
    },
    {
     "data": {
      "image/png": "[encoded data removed]",
      "text/plain": [
       "<Figure size 576x576 with 1 Axes>"
      ]
     },
     "metadata": {},
     "output_type": "display_data"
    }
   ],
   "source": [
    "# Visualise Naive Bayes\n",
    "y_pred = nb.predict(x_test)\n",
    "matrix = confusion_matrix(y_test, y_pred)\n",
    "visualise_confusion_matrix('Naive Bayes', matrix)"
   ]
  },
  {
   "cell_type": "markdown",
   "metadata": {},
   "source": [
    "### Visualize SGD"
   ]
  },
  {
   "cell_type": "code",
   "execution_count": 16,
   "metadata": {},
   "outputs": [
    {
     "name": "stdout",
     "output_type": "stream",
     "text": [
      "Saving as output/confusion_matrix_SGD.png...\n"
     ]
    },
    {
     "data": {
      "text/plain": [
       "<Figure size 432x288 with 0 Axes>"
      ]
     },
     "metadata": {},
     "output_type": "display_data"
    },
    {
     "data": {
      "image/png": "[encoded data removed]",
      "text/plain": [
       "<Figure size 576x576 with 1 Axes>"
      ]
     },
     "metadata": {},
     "output_type": "display_data"
    }
   ],
   "source": [
    "y_pred = sgd.predict(x_test)\n",
    "matrix = confusion_matrix(y_test, y_pred)\n",
    "visualise_confusion_matrix('SGD', matrix)"
   ]
  },
  {
   "cell_type": "markdown",
   "metadata": {},
   "source": [
    "## Testing the models on data not in the dataset"
   ]
  },
  {
   "cell_type": "code",
   "execution_count": 17,
   "metadata": {},
   "outputs": [],
   "source": [
    "def predict_categories(model, titles):\n",
    "    '''\n",
    "    Use the given model to predict categories for the given news headline titles. \n",
    "    '''\n",
    "    titles = pd.Series(titles)\n",
    "    \n",
    "    # mirror preprocessing transformations before feeding as input to the model\n",
    "    titles = titles.str.lower()\n",
    "    titles = titles.apply(remove_punctuation)\n",
    "    \n",
    "    text = vectorizer.transform(titles)\n",
    "\n",
    "    categories = model.predict(text)\n",
    "    \n",
    "    return encoder.inverse_transform(categories)"
   ]
  },
  {
   "cell_type": "markdown",
   "metadata": {},
   "source": [
    "Now we test the models on some recent (June 2020) article headlines from the New York Times, Reuters, E!, and other websites. Some non-obvious headlines (e.g. 'Watch This Black Hole Blow Bubbles') are deliberately chosen."
   ]
  },
  {
   "cell_type": "code",
   "execution_count": 18,
   "metadata": {},
   "outputs": [],
   "source": [
    "titles = [\n",
    "    'The Sea’s Weirdest Creatures, Now in ‘Staggering’ Detail',\n",
    "    'Watch This Black Hole Blow Bubbles',\n",
    "    'Falling Jobless Rate Could Imperil Aid Underpinning the Recovery',\n",
    "    'OPEC and Russia Are Likely to Extend Oil Production Cuts',\n",
    "    'Doctors Heavily Overprescribed Antibiotics Early in the Pandemic',\n",
    "    '15 Years Since Tom Cruise Infamously Jumped on Oprah\\'s Couch',\n",
    "    'YouTube is hosting a star-studded tribute to the class of 2020 this weekend',\n",
    "    'Malaysia reports 37 new coronavirus cases, one new death',\n",
    "    'Protests in Australia, Japan embrace \\'Black Lives Matter\\' movement',\n",
    "    'Tesla Model Y attacks the race track on Autopilot'\n",
    "]\n",
    "test_df = pd.DataFrame(titles, columns=['title'])"
   ]
  },
  {
   "cell_type": "code",
   "execution_count": 19,
   "metadata": {},
   "outputs": [
    {
     "data": {
      "text/html": [
       "<div>\n",
       "<style scoped>\n",
       "    .dataframe tbody tr th:only-of-type {\n",
       "        vertical-align: middle;\n",
       "    }\n",
       "\n",
       "    .dataframe tbody tr th {\n",
       "        vertical-align: top;\n",
       "    }\n",
       "\n",
       "    .dataframe thead th {\n",
       "        text-align: right;\n",
       "    }\n",
       "</style>\n",
       "<table border=\"1\" class=\"dataframe\">\n",
       "  <thead>\n",
       "    <tr style=\"text-align: right;\">\n",
       "      <th></th>\n",
       "      <th>title</th>\n",
       "      <th>predicted_category</th>\n",
       "    </tr>\n",
       "  </thead>\n",
       "  <tbody>\n",
       "    <tr>\n",
       "      <th>2</th>\n",
       "      <td>Falling Jobless Rate Could Imperil Aid Underpi...</td>\n",
       "      <td>business</td>\n",
       "    </tr>\n",
       "    <tr>\n",
       "      <th>3</th>\n",
       "      <td>OPEC and Russia Are Likely to Extend Oil Produ...</td>\n",
       "      <td>business</td>\n",
       "    </tr>\n",
       "    <tr>\n",
       "      <th>8</th>\n",
       "      <td>Protests in Australia, Japan embrace 'Black Li...</td>\n",
       "      <td>business</td>\n",
       "    </tr>\n",
       "    <tr>\n",
       "      <th>1</th>\n",
       "      <td>Watch This Black Hole Blow Bubbles</td>\n",
       "      <td>entertainment</td>\n",
       "    </tr>\n",
       "    <tr>\n",
       "      <th>5</th>\n",
       "      <td>15 Years Since Tom Cruise Infamously Jumped on...</td>\n",
       "      <td>entertainment</td>\n",
       "    </tr>\n",
       "    <tr>\n",
       "      <th>6</th>\n",
       "      <td>YouTube is hosting a star-studded tribute to t...</td>\n",
       "      <td>entertainment</td>\n",
       "    </tr>\n",
       "    <tr>\n",
       "      <th>4</th>\n",
       "      <td>Doctors Heavily Overprescribed Antibiotics Ear...</td>\n",
       "      <td>health</td>\n",
       "    </tr>\n",
       "    <tr>\n",
       "      <th>7</th>\n",
       "      <td>Malaysia reports 37 new coronavirus cases, one...</td>\n",
       "      <td>health</td>\n",
       "    </tr>\n",
       "    <tr>\n",
       "      <th>0</th>\n",
       "      <td>The Sea’s Weirdest Creatures, Now in ‘Staggeri...</td>\n",
       "      <td>science/technology</td>\n",
       "    </tr>\n",
       "    <tr>\n",
       "      <th>9</th>\n",
       "      <td>Tesla Model Y attacks the race track on Autopilot</td>\n",
       "      <td>science/technology</td>\n",
       "    </tr>\n",
       "  </tbody>\n",
       "</table>\n",
       "</div>"
      ],
      "text/plain": [
       "                                               title  predicted_category\n",
       "2  Falling Jobless Rate Could Imperil Aid Underpi...            business\n",
       "3  OPEC and Russia Are Likely to Extend Oil Produ...            business\n",
       "8  Protests in Australia, Japan embrace 'Black Li...            business\n",
       "1                 Watch This Black Hole Blow Bubbles       entertainment\n",
       "5  15 Years Since Tom Cruise Infamously Jumped on...       entertainment\n",
       "6  YouTube is hosting a star-studded tribute to t...       entertainment\n",
       "4  Doctors Heavily Overprescribed Antibiotics Ear...              health\n",
       "7  Malaysia reports 37 new coronavirus cases, one...              health\n",
       "0  The Sea’s Weirdest Creatures, Now in ‘Staggeri...  science/technology\n",
       "9  Tesla Model Y attacks the race track on Autopilot  science/technology"
      ]
     },
     "execution_count": 19,
     "metadata": {},
     "output_type": "execute_result"
    }
   ],
   "source": [
    "# Naive Bayes predictions\n",
    "\n",
    "test_df['predicted_category'] = predict_categories(nb, titles)\n",
    "test_df.sort_values(by='predicted_category')"
   ]
  },
  {
   "cell_type": "code",
   "execution_count": 20,
   "metadata": {},
   "outputs": [
    {
     "data": {
      "text/html": [
       "<div>\n",
       "<style scoped>\n",
       "    .dataframe tbody tr th:only-of-type {\n",
       "        vertical-align: middle;\n",
       "    }\n",
       "\n",
       "    .dataframe tbody tr th {\n",
       "        vertical-align: top;\n",
       "    }\n",
       "\n",
       "    .dataframe thead th {\n",
       "        text-align: right;\n",
       "    }\n",
       "</style>\n",
       "<table border=\"1\" class=\"dataframe\">\n",
       "  <thead>\n",
       "    <tr style=\"text-align: right;\">\n",
       "      <th></th>\n",
       "      <th>title</th>\n",
       "      <th>predicted_category</th>\n",
       "    </tr>\n",
       "  </thead>\n",
       "  <tbody>\n",
       "    <tr>\n",
       "      <th>2</th>\n",
       "      <td>Falling Jobless Rate Could Imperil Aid Underpi...</td>\n",
       "      <td>business</td>\n",
       "    </tr>\n",
       "    <tr>\n",
       "      <th>3</th>\n",
       "      <td>OPEC and Russia Are Likely to Extend Oil Produ...</td>\n",
       "      <td>business</td>\n",
       "    </tr>\n",
       "    <tr>\n",
       "      <th>8</th>\n",
       "      <td>Protests in Australia, Japan embrace 'Black Li...</td>\n",
       "      <td>business</td>\n",
       "    </tr>\n",
       "    <tr>\n",
       "      <th>1</th>\n",
       "      <td>Watch This Black Hole Blow Bubbles</td>\n",
       "      <td>entertainment</td>\n",
       "    </tr>\n",
       "    <tr>\n",
       "      <th>5</th>\n",
       "      <td>15 Years Since Tom Cruise Infamously Jumped on...</td>\n",
       "      <td>entertainment</td>\n",
       "    </tr>\n",
       "    <tr>\n",
       "      <th>6</th>\n",
       "      <td>YouTube is hosting a star-studded tribute to t...</td>\n",
       "      <td>entertainment</td>\n",
       "    </tr>\n",
       "    <tr>\n",
       "      <th>4</th>\n",
       "      <td>Doctors Heavily Overprescribed Antibiotics Ear...</td>\n",
       "      <td>health</td>\n",
       "    </tr>\n",
       "    <tr>\n",
       "      <th>7</th>\n",
       "      <td>Malaysia reports 37 new coronavirus cases, one...</td>\n",
       "      <td>health</td>\n",
       "    </tr>\n",
       "    <tr>\n",
       "      <th>0</th>\n",
       "      <td>The Sea’s Weirdest Creatures, Now in ‘Staggeri...</td>\n",
       "      <td>science/technology</td>\n",
       "    </tr>\n",
       "    <tr>\n",
       "      <th>9</th>\n",
       "      <td>Tesla Model Y attacks the race track on Autopilot</td>\n",
       "      <td>science/technology</td>\n",
       "    </tr>\n",
       "  </tbody>\n",
       "</table>\n",
       "</div>"
      ],
      "text/plain": [
       "                                               title  predicted_category\n",
       "2  Falling Jobless Rate Could Imperil Aid Underpi...            business\n",
       "3  OPEC and Russia Are Likely to Extend Oil Produ...            business\n",
       "8  Protests in Australia, Japan embrace 'Black Li...            business\n",
       "1                 Watch This Black Hole Blow Bubbles       entertainment\n",
       "5  15 Years Since Tom Cruise Infamously Jumped on...       entertainment\n",
       "6  YouTube is hosting a star-studded tribute to t...       entertainment\n",
       "4  Doctors Heavily Overprescribed Antibiotics Ear...              health\n",
       "7  Malaysia reports 37 new coronavirus cases, one...              health\n",
       "0  The Sea’s Weirdest Creatures, Now in ‘Staggeri...  science/technology\n",
       "9  Tesla Model Y attacks the race track on Autopilot  science/technology"
      ]
     },
     "execution_count": 20,
     "metadata": {},
     "output_type": "execute_result"
    }
   ],
   "source": [
    "# SGD predictions\n",
    "\n",
    "test_df['predicted_category'] = predict_categories(sgd, titles)\n",
    "test_df.sort_values(by='predicted_category')"
   ]
  },
  {
   "cell_type": "markdown",
   "metadata": {},
   "source": [
    "We see that the predictions of the two models are similar and mostly accurate,\n",
    "and that **it is able to classify 2020 topics, despite being trained on 2014 news headlines.**"
   ]
  },
  {
   "cell_type": "markdown",
   "metadata": {},
   "source": [
    "## Custom tests\n",
    "\n",
    "To test a model on arbitrary input:"
   ]
  },
  {
   "cell_type": "code",
   "execution_count": 21,
   "metadata": {},
   "outputs": [
    {
     "name": "stdout",
     "output_type": "stream",
     "text": [
      "Predicting categories for arbitrary input:\n",
      "Bloomberg, Justin Bieber, Heart Surgery, and the Milky Way\n",
      "predicted category: entertainment.\n"
     ]
    }
   ],
   "source": [
    "print('Predicting categories for arbitrary input:')\n",
    "\n",
    "custom_title = 'Bloomberg, Justin Bieber, Heart Surgery, and the Milky Way'\n",
    "#custom_title = input(\"(Naive Bayes) Type in any news headline:\\n\\n\")\n",
    "print(custom_title)\n",
    "if (custom_title):\n",
    "    print(\n",
    "        f'predicted category: '\n",
    "        f'{predict_categories(nb, [custom_title,])[0]}.'\n",
    "    )"
   ]
  },
  {
   "cell_type": "markdown",
   "metadata": {},
   "source": [
    "# Neural Network Approach with Keras\n",
    "\n",
    "We use `TensorFlow` with `Keras`'s API.\n",
    "\n",
    "Split data again and start fresh: neural networks have different input constraints."
   ]
  },
  {
   "cell_type": "code",
   "execution_count": 22,
   "metadata": {},
   "outputs": [
    {
     "name": "stdout",
     "output_type": "stream",
     "text": [
      "===== Neural Network =====\n"
     ]
    },
    {
     "data": {
      "text/plain": [
       "((337935, 1), (84484, 1), (337935, 1), (84484, 1))"
      ]
     },
     "execution_count": 22,
     "metadata": {},
     "output_type": "execute_result"
    }
   ],
   "source": [
    "print('===== Neural Network =====')\n",
    "# split into train and test sets\n",
    "x_train, x_test, y_train, y_test = train_test_split(features, labels, test_size=0.2)\n",
    "\n",
    "x_train.shape, x_test.shape, y_train.shape, y_test.shape"
   ]
  },
  {
   "cell_type": "markdown",
   "metadata": {},
   "source": [
    "## Preprocessing\n",
    "\n",
    "As before, each step here is taken so as to prevent data leakage from the testing set before or during training.\n",
    "\n",
    "We consider the average length of headline text in the dataset, to decide on the maximum length of input to the neural network. **200** seems sensible."
   ]
  },
  {
   "cell_type": "code",
   "execution_count": 23,
   "metadata": {},
   "outputs": [
    {
     "name": "stdout",
     "output_type": "stream",
     "text": [
      "average length of headline text: 54.909 characters\n"
     ]
    }
   ],
   "source": [
    "headline_lengths = [len(x) for x in news_df['TITLE'].values]\n",
    "print(f'average length of headline text: {np.mean(headline_lengths):.3f} characters')"
   ]
  },
  {
   "cell_type": "markdown",
   "metadata": {},
   "source": [
    "Turns titles into sequences of integers with `Tokenizer`. This takes about a minute."
   ]
  },
  {
   "cell_type": "code",
   "execution_count": 24,
   "metadata": {},
   "outputs": [
    {
     "name": "stdout",
     "output_type": "stream",
     "text": [
      "Tokenising text into sequences...\n"
     ]
    }
   ],
   "source": [
    "start_time = time.time()\n",
    "\n",
    "print('Tokenising text into sequences...')\n",
    "\n",
    "# Turn titles into lists of tokens:\n",
    "# each token is represented by a number,\n",
    "# which is its index in the dictionary of 10000 most common unique tokens\n",
    "# contained in the text it was fitted on, i.e. all the headlines in the dataset.\n",
    "\n",
    "n_most_common_words = 10000\n",
    "\n",
    "tokenizer = Tokenizer(num_words=n_most_common_words, filters=string.punctuation, lower=True)\n",
    "tokenizer.fit_on_texts(x_train['TITLE'].values)\n",
    "\n",
    "x_train = tokenizer.texts_to_sequences(x_train['TITLE'].values)\n",
    "x_test = tokenizer.texts_to_sequences(x_test['TITLE'].values)"
   ]
  },
  {
   "cell_type": "markdown",
   "metadata": {},
   "source": [
    "Pad or truncate the input sequences so they are compatible with the input layer of the neural network, and\n",
    "one hot encode the output categorical labels, so they are compatible with the output layer of the neural network."
   ]
  },
  {
   "cell_type": "code",
   "execution_count": 25,
   "metadata": {},
   "outputs": [
    {
     "name": "stdout",
     "output_type": "stream",
     "text": [
      "Padding sequences...\n"
     ]
    },
    {
     "data": {
      "text/plain": [
       "(337935, 200)"
      ]
     },
     "execution_count": 25,
     "metadata": {},
     "output_type": "execute_result"
    }
   ],
   "source": [
    "print('Padding sequences...')\n",
    "\n",
    "# set max title length to be used as input to be 200\n",
    "# pad and truncate as necessary\n",
    "max_title_length = 200\n",
    "\n",
    "x_train = pad_sequences(x_train, maxlen=max_title_length)\n",
    "x_test = pad_sequences(x_test, maxlen=max_title_length)\n",
    "\n",
    "x_train.shape"
   ]
  },
  {
   "cell_type": "code",
   "execution_count": 26,
   "metadata": {},
   "outputs": [
    {
     "name": "stdout",
     "output_type": "stream",
     "text": [
      "One-hot encoding categorical labels...\n",
      "Training the neural network took 13.284749984741211 seconds.\n"
     ]
    }
   ],
   "source": [
    "print('One-hot encoding categorical labels...')\n",
    "\n",
    "onehot = OneHotEncoder()\n",
    "onehot.fit(y_train)\n",
    "\n",
    "y_train = onehot.transform(y_train)\n",
    "y_test = onehot.transform(y_test)\n",
    "\n",
    "duration = time.time() - start_time\n",
    "print(f'Training the neural network took {duration} seconds.')"
   ]
  },
  {
   "cell_type": "markdown",
   "metadata": {},
   "source": [
    "## Compiling the neural network\n",
    "\n",
    "Two hidden dense layers are used. The sigmoid activation function for the last layer is appropriate (**as opposed to the softmax function**) in this case since the four output categories are not exhaustive and mutually exclusive."
   ]
  },
  {
   "cell_type": "code",
   "execution_count": 27,
   "metadata": {},
   "outputs": [
    {
     "name": "stdout",
     "output_type": "stream",
     "text": [
      "Model: \"sequential_1\"\n",
      "_________________________________________________________________\n",
      "Layer (type)                 Output Shape              Param #   \n",
      "=================================================================\n",
      "embedding_1 (Embedding)      (None, 200, 32)           320000    \n",
      "_________________________________________________________________\n",
      "flatten_1 (Flatten)          (None, 6400)              0         \n",
      "_________________________________________________________________\n",
      "dense_1 (Dense)              (None, 16)                102416    \n",
      "_________________________________________________________________\n",
      "dense_2 (Dense)              (None, 16)                272       \n",
      "_________________________________________________________________\n",
      "dense_3 (Dense)              (None, 4)                 68        \n",
      "=================================================================\n",
      "Total params: 422,756\n",
      "Trainable params: 422,756\n",
      "Non-trainable params: 0\n",
      "_________________________________________________________________\n",
      "None\n"
     ]
    }
   ],
   "source": [
    "embedding_vector_length = 32\n",
    "\n",
    "model = Sequential()\n",
    "model.add(Embedding(n_most_common_words, embedding_vector_length, input_length=max_title_length))\n",
    "model.add(Flatten())\n",
    "model.add(Dense(16, activation='relu'))\n",
    "model.add(Dense(16, activation='relu'))\n",
    "model.add(Dense(4, activation='sigmoid'))\n",
    "model.compile(loss='binary_crossentropy',optimizer='adam', metrics=['accuracy'])\n",
    "print(model.summary())"
   ]
  },
  {
   "cell_type": "markdown",
   "metadata": {},
   "source": [
    "## Training and evaluating the neural network\n",
    "\n",
    "Training the model for 4 epochs takes several minutes.\n",
    "\n",
    "The neural network performs well, with **high accuracy (\\~96.80%) and low loss (\\~8.75% in the sample run).**\n",
    "Notably, it performs better than both the Naive Bayes and SGD models."
   ]
  },
  {
   "cell_type": "code",
   "execution_count": 28,
   "metadata": {},
   "outputs": [
    {
     "name": "stderr",
     "output_type": "stream",
     "text": [
      "C:\\Users\\Jonathan\\miniconda3\\envs\\ml_env\\lib\\site-packages\\tensorflow_core\\python\\framework\\indexed_slices.py:433: UserWarning: Converting sparse IndexedSlices to a dense Tensor of unknown shape. This may consume a large amount of memory.\n",
      "  \"Converting sparse IndexedSlices to a dense Tensor of unknown shape. \"\n"
     ]
    },
    {
     "name": "stdout",
     "output_type": "stream",
     "text": [
      "Train on 337935 samples, validate on 84484 samples\n",
      "Epoch 1/4\n",
      "337935/337935 [==============================] - 23s 68us/step - loss: 0.1666 - accuracy: 0.9335 - val_loss: 0.1032 - val_accuracy: 0.9622\n",
      "Epoch 2/4\n",
      "337935/337935 [==============================] - 24s 72us/step - loss: 0.0876 - accuracy: 0.9678 - val_loss: 0.0938 - val_accuracy: 0.9650\n",
      "Epoch 3/4\n",
      "337935/337935 [==============================] - 23s 69us/step - loss: 0.0754 - accuracy: 0.9722 - val_loss: 0.0876 - val_accuracy: 0.9673\n",
      "Epoch 4/4\n",
      "337935/337935 [==============================] - 24s 71us/step - loss: 0.0648 - accuracy: 0.9763 - val_loss: 0.0888 - val_accuracy: 0.9671\n",
      "Training the neural network took 95.39286875724792 seconds.\n"
     ]
    }
   ],
   "source": [
    "start_time = time.time()\n",
    "\n",
    "# Train the model for 4 epochs.\n",
    "hist = model.fit(x_train, y_train.todense(),\n",
    "                 validation_data=(x_test, y_test.todense()),\n",
    "                 epochs=4,\n",
    "                 batch_size=128)\n",
    "\n",
    "duration = time.time() - start_time\n",
    "print(f'Training the neural network took {duration} seconds.')"
   ]
  },
  {
   "cell_type": "code",
   "execution_count": 29,
   "metadata": {},
   "outputs": [
    {
     "name": "stdout",
     "output_type": "stream",
     "text": [
      "84484/84484 [==============================] - 2s 27us/step\n",
      "Test set\n",
      "  Loss: 0.08884787340553008\n",
      "  Accuracy: 0.9671476483345032\n"
     ]
    }
   ],
   "source": [
    "score = model.evaluate(x_test,y_test)\n",
    "print(f'Test set\\n  Loss: {score[0]}\\n  Accuracy: {score[1]}')"
   ]
  },
  {
   "cell_type": "markdown",
   "metadata": {},
   "source": [
    "## Visualizing the training process\n",
    "\n",
    "Training and validation accuracy and loss across epochs are plotted. Overfitting does not seem to be issue."
   ]
  },
  {
   "cell_type": "code",
   "execution_count": 30,
   "metadata": {},
   "outputs": [
    {
     "name": "stdout",
     "output_type": "stream",
     "text": [
      "Saving as output/nn_accuracy.png...\n"
     ]
    },
    {
     "data": {
      "image/png": "[encoded data removed]",
      "text/plain": [
       "<Figure size 432x288 with 1 Axes>"
      ]
     },
     "metadata": {},
     "output_type": "display_data"
    }
   ],
   "source": [
    "acc = hist.history['accuracy']\n",
    "val = hist.history['val_accuracy']\n",
    "epochs = range(1, len(acc) + 1)\n",
    "\n",
    "plt.clf()\n",
    "sns.set()\n",
    "plt.plot(epochs, acc, '-', label='Training accuracy')\n",
    "plt.plot(epochs, val, ':', label='Validation accuracy')\n",
    "plt.title('Training and Validation Accuracy')\n",
    "plt.xlabel('Epoch')\n",
    "plt.ylabel('Accuracy')\n",
    "plt.legend(loc='lower right')\n",
    "plt.tight_layout()\n",
    "plt.savefig(os.path.join('output', 'nn_accuracy.png'))\n",
    "print(f'Saving as output/nn_accuracy.png...')\n",
    "\n",
    "plt.plot();"
   ]
  },
  {
   "cell_type": "code",
   "execution_count": 31,
   "metadata": {},
   "outputs": [
    {
     "name": "stdout",
     "output_type": "stream",
     "text": [
      "Saving as output/nn_loss.png...\n"
     ]
    },
    {
     "data": {
      "image/png": "[encoded data removed]",
      "text/plain": [
       "<Figure size 432x288 with 1 Axes>"
      ]
     },
     "metadata": {},
     "output_type": "display_data"
    }
   ],
   "source": [
    "loss = hist.history['loss']\n",
    "val_loss = hist.history['val_loss']\n",
    "\n",
    "plt.clf()\n",
    "plt.plot(epochs, loss, '-', label='Training loss')\n",
    "plt.plot(epochs, val_loss, ':', label='Validation loss')\n",
    "plt.title('Training and Validation Loss')\n",
    "plt.xlabel('Epoch')\n",
    "plt.ylabel('Loss')\n",
    "plt.legend(loc='upper right')\n",
    "plt.tight_layout()\n",
    "plt.savefig(os.path.join('output', 'nn_loss.png'))\n",
    "print(f'Saving as output/nn_loss.png...')\n",
    "\n",
    "plt.plot();"
   ]
  },
  {
   "cell_type": "markdown",
   "metadata": {},
   "source": [
    "## Testing the neural network on data not in the dataset\n",
    "\n",
    "We predict on the same 2020 titles as before, and observe that the predictions are similarly accurate."
   ]
  },
  {
   "cell_type": "code",
   "execution_count": 32,
   "metadata": {},
   "outputs": [
    {
     "data": {
      "text/plain": [
       "['The Sea’s Weirdest Creatures, Now in ‘Staggering’ Detail',\n",
       " 'Watch This Black Hole Blow Bubbles',\n",
       " 'Falling Jobless Rate Could Imperil Aid Underpinning the Recovery',\n",
       " 'OPEC and Russia Are Likely to Extend Oil Production Cuts',\n",
       " 'Doctors Heavily Overprescribed Antibiotics Early in the Pandemic',\n",
       " \"15 Years Since Tom Cruise Infamously Jumped on Oprah's Couch\",\n",
       " 'YouTube is hosting a star-studded tribute to the class of 2020 this weekend',\n",
       " 'Malaysia reports 37 new coronavirus cases, one new death',\n",
       " \"Protests in Australia, Japan embrace 'Black Lives Matter' movement\",\n",
       " 'Tesla Model Y attacks the race track on Autopilot']"
      ]
     },
     "execution_count": 32,
     "metadata": {},
     "output_type": "execute_result"
    }
   ],
   "source": [
    "titles"
   ]
  },
  {
   "cell_type": "code",
   "execution_count": 33,
   "metadata": {},
   "outputs": [],
   "source": [
    "def predict_categories_nn(model, titles):\n",
    "    '''\n",
    "    Use the given neural network model to predict categories for the given news headline titles. \n",
    "    '''\n",
    "    sequences = tokenizer.texts_to_sequences(titles)\n",
    "    text = pad_sequences(sequences, maxlen=max_title_length)\n",
    "\n",
    "    categories = model.predict_classes(text)\n",
    "    \n",
    "    return encoder.inverse_transform(categories)"
   ]
  },
  {
   "cell_type": "code",
   "execution_count": 34,
   "metadata": {},
   "outputs": [
    {
     "data": {
      "text/html": [
       "<div>\n",
       "<style scoped>\n",
       "    .dataframe tbody tr th:only-of-type {\n",
       "        vertical-align: middle;\n",
       "    }\n",
       "\n",
       "    .dataframe tbody tr th {\n",
       "        vertical-align: top;\n",
       "    }\n",
       "\n",
       "    .dataframe thead th {\n",
       "        text-align: right;\n",
       "    }\n",
       "</style>\n",
       "<table border=\"1\" class=\"dataframe\">\n",
       "  <thead>\n",
       "    <tr style=\"text-align: right;\">\n",
       "      <th></th>\n",
       "      <th>title</th>\n",
       "      <th>predicted_category</th>\n",
       "    </tr>\n",
       "  </thead>\n",
       "  <tbody>\n",
       "    <tr>\n",
       "      <th>1</th>\n",
       "      <td>Watch This Black Hole Blow Bubbles</td>\n",
       "      <td>business</td>\n",
       "    </tr>\n",
       "    <tr>\n",
       "      <th>2</th>\n",
       "      <td>Falling Jobless Rate Could Imperil Aid Underpi...</td>\n",
       "      <td>business</td>\n",
       "    </tr>\n",
       "    <tr>\n",
       "      <th>3</th>\n",
       "      <td>OPEC and Russia Are Likely to Extend Oil Produ...</td>\n",
       "      <td>business</td>\n",
       "    </tr>\n",
       "    <tr>\n",
       "      <th>8</th>\n",
       "      <td>Protests in Australia, Japan embrace 'Black Li...</td>\n",
       "      <td>business</td>\n",
       "    </tr>\n",
       "    <tr>\n",
       "      <th>5</th>\n",
       "      <td>15 Years Since Tom Cruise Infamously Jumped on...</td>\n",
       "      <td>entertainment</td>\n",
       "    </tr>\n",
       "    <tr>\n",
       "      <th>4</th>\n",
       "      <td>Doctors Heavily Overprescribed Antibiotics Ear...</td>\n",
       "      <td>health</td>\n",
       "    </tr>\n",
       "    <tr>\n",
       "      <th>6</th>\n",
       "      <td>YouTube is hosting a star-studded tribute to t...</td>\n",
       "      <td>health</td>\n",
       "    </tr>\n",
       "    <tr>\n",
       "      <th>7</th>\n",
       "      <td>Malaysia reports 37 new coronavirus cases, one...</td>\n",
       "      <td>health</td>\n",
       "    </tr>\n",
       "    <tr>\n",
       "      <th>0</th>\n",
       "      <td>The Sea’s Weirdest Creatures, Now in ‘Staggeri...</td>\n",
       "      <td>science/technology</td>\n",
       "    </tr>\n",
       "    <tr>\n",
       "      <th>9</th>\n",
       "      <td>Tesla Model Y attacks the race track on Autopilot</td>\n",
       "      <td>science/technology</td>\n",
       "    </tr>\n",
       "  </tbody>\n",
       "</table>\n",
       "</div>"
      ],
      "text/plain": [
       "                                               title  predicted_category\n",
       "1                 Watch This Black Hole Blow Bubbles            business\n",
       "2  Falling Jobless Rate Could Imperil Aid Underpi...            business\n",
       "3  OPEC and Russia Are Likely to Extend Oil Produ...            business\n",
       "8  Protests in Australia, Japan embrace 'Black Li...            business\n",
       "5  15 Years Since Tom Cruise Infamously Jumped on...       entertainment\n",
       "4  Doctors Heavily Overprescribed Antibiotics Ear...              health\n",
       "6  YouTube is hosting a star-studded tribute to t...              health\n",
       "7  Malaysia reports 37 new coronavirus cases, one...              health\n",
       "0  The Sea’s Weirdest Creatures, Now in ‘Staggeri...  science/technology\n",
       "9  Tesla Model Y attacks the race track on Autopilot  science/technology"
      ]
     },
     "execution_count": 34,
     "metadata": {},
     "output_type": "execute_result"
    }
   ],
   "source": [
    "test_df['predicted_category'] = predict_categories_nn(model, titles)\n",
    "\n",
    "test_df.sort_values(by='predicted_category')"
   ]
  },
  {
   "cell_type": "markdown",
   "metadata": {},
   "source": [
    "## Custom tests\n",
    "\n",
    "To test the neural network on arbitrary input:"
   ]
  },
  {
   "cell_type": "code",
   "execution_count": 35,
   "metadata": {},
   "outputs": [
    {
     "name": "stdout",
     "output_type": "stream",
     "text": [
      "Predicting categories for arbitrary input:\n",
      "Bloomberg, Justin Bieber, Heart Surgery, and the Milky Way\n",
      "predicted category: entertainment.\n"
     ]
    }
   ],
   "source": [
    "print('Predicting categories for arbitrary input:')\n",
    "\n",
    "custom_title = 'Bloomberg, Justin Bieber, Heart Surgery, and the Milky Way'\n",
    "#custom_title = input(\"(Neural Network) Type in a news headline:\\n\\n\")\n",
    "print(custom_title)\n",
    "if custom_title:\n",
    "    print(\n",
    "        f'predicted category: '\n",
    "        f'{predict_categories_nn(model, [custom_title,])[0]}.'\n",
    "    )"
   ]
  },
  {
   "cell_type": "markdown",
   "metadata": {},
   "source": [
    "## Summary\n",
    "\n",
    "The neural network was the most accurate by far, but it was also the slowest to train.\n",
    "It appears that for medium-sized text datasets such as this, the Naive Bayes  or SGD\n",
    "models are just as practically useful."
   ]
  },
  {
   "cell_type": "markdown",
   "metadata": {},
   "source": [
    "## Applying the model: 'How has 2020 been so far?'\n",
    "\n",
    "In terms of the 4 news categories as defined in 2014, what has the news been reporting recently?\n",
    "\n",
    "To get a rough answer, we use the trained neural network to predict categories for 2020 headlines from the New York Times.\n",
    "\n",
    "> The 2020 headlines were obtained from the free monthly articles on [the New York Times site map](https://spiderbites.nytimes.com/2020/). \\\n",
    "> © 2020 The New York Times Company"
   ]
  },
  {
   "cell_type": "code",
   "execution_count": 36,
   "metadata": {},
   "outputs": [
    {
     "name": "stdout",
     "output_type": "stream",
     "text": [
      "===== 2020 New York Times category predictions =====\n",
      "Read 2020 headlines CSV file from local copy.\n",
      "(3575, 2)\n"
     ]
    },
    {
     "data": {
      "text/html": [
       "<div>\n",
       "<style scoped>\n",
       "    .dataframe tbody tr th:only-of-type {\n",
       "        vertical-align: middle;\n",
       "    }\n",
       "\n",
       "    .dataframe tbody tr th {\n",
       "        vertical-align: top;\n",
       "    }\n",
       "\n",
       "    .dataframe thead th {\n",
       "        text-align: right;\n",
       "    }\n",
       "</style>\n",
       "<table border=\"1\" class=\"dataframe\">\n",
       "  <thead>\n",
       "    <tr style=\"text-align: right;\">\n",
       "      <th></th>\n",
       "      <th>headline</th>\n",
       "      <th>month</th>\n",
       "    </tr>\n",
       "  </thead>\n",
       "  <tbody>\n",
       "    <tr>\n",
       "      <th>0</th>\n",
       "      <td>#MeToo Cases’ New Legal Battleground: Defamati...</td>\n",
       "      <td>january</td>\n",
       "    </tr>\n",
       "    <tr>\n",
       "      <th>1</th>\n",
       "      <td>$1 Million Homes in South Dakota, Illinois and...</td>\n",
       "      <td>january</td>\n",
       "    </tr>\n",
       "    <tr>\n",
       "      <th>2</th>\n",
       "      <td>$1 Million Homes in South Dakota, Illinois and...</td>\n",
       "      <td>january</td>\n",
       "    </tr>\n",
       "    <tr>\n",
       "      <th>3</th>\n",
       "      <td>$1.2 Million Homes in New York, California and...</td>\n",
       "      <td>january</td>\n",
       "    </tr>\n",
       "    <tr>\n",
       "      <th>4</th>\n",
       "      <td>$1.4 Million Homes in California</td>\n",
       "      <td>january</td>\n",
       "    </tr>\n",
       "  </tbody>\n",
       "</table>\n",
       "</div>"
      ],
      "text/plain": [
       "                                            headline    month\n",
       "0  #MeToo Cases’ New Legal Battleground: Defamati...  january\n",
       "1  $1 Million Homes in South Dakota, Illinois and...  january\n",
       "2  $1 Million Homes in South Dakota, Illinois and...  january\n",
       "3  $1.2 Million Homes in New York, California and...  january\n",
       "4                   $1.4 Million Homes in California  january"
      ]
     },
     "execution_count": 36,
     "metadata": {},
     "output_type": "execute_result"
    }
   ],
   "source": [
    "print('===== 2020 New York Times category predictions =====')\n",
    "\n",
    "# Read local copies of monthly headlines\n",
    "jan2020_df = pd.read_csv(os.path.join('news-data', 'nyt_jan2020.csv'), header=0, index_col=0, dtype=str)\n",
    "print('Read 2020 headlines CSV file from local copy.')\n",
    "\n",
    "jan2020_df = jan2020_df.drop_duplicates()\n",
    "jan2020_df['month'] = 'january'\n",
    "\n",
    "print(jan2020_df.shape)\n",
    "jan2020_df.head()"
   ]
  },
  {
   "cell_type": "markdown",
   "metadata": {},
   "source": [
    "Combine the rest of the months into a single DataFrame."
   ]
  },
  {
   "cell_type": "code",
   "execution_count": 37,
   "metadata": {},
   "outputs": [],
   "source": [
    "feb2020_df = pd.read_csv(os.path.join('news-data', 'nyt_feb2020.csv'), header=0, index_col=0, dtype=str)\n",
    "feb2020_df = feb2020_df.drop_duplicates()\n",
    "feb2020_df['month'] = 'february'\n",
    "\n",
    "mar2020_df = pd.read_csv(os.path.join('news-data', 'nyt_mar2020.csv'), header=0, index_col=0, dtype=str)\n",
    "mar2020_df = mar2020_df.drop_duplicates()\n",
    "mar2020_df['month'] = 'march'\n",
    "\n",
    "apr2020_df = pd.read_csv(os.path.join('news-data', 'nyt_apr2020.csv'), header=0, index_col=0, dtype=str)\n",
    "apr2020_df = apr2020_df.drop_duplicates()\n",
    "apr2020_df['month'] = 'april'\n",
    "\n",
    "may2020_df = pd.read_csv(os.path.join('news-data', 'nyt_may2020.csv'), header=0, index_col=0, dtype=str)\n",
    "may2020_df = may2020_df.drop_duplicates()\n",
    "may2020_df['month'] = 'may'\n",
    "\n",
    "nyt2020_df = jan2020_df.append(feb2020_df).append(mar2020_df).append(apr2020_df).append(may2020_df).astype(str)"
   ]
  },
  {
   "cell_type": "markdown",
   "metadata": {},
   "source": [
    "Predict categories for each of the 17k+ headlines with the trained neural network. We can see that some of them are inaccurate, as the categories it was trained on did not include, for instance, politics or market prices."
   ]
  },
  {
   "cell_type": "code",
   "execution_count": 38,
   "metadata": {},
   "outputs": [
    {
     "name": "stdout",
     "output_type": "stream",
     "text": [
      "Saving 2020 New York Times news category predictions to output/nyt2020_predictions.csv\n"
     ]
    },
    {
     "data": {
      "text/html": [
       "<div>\n",
       "<style scoped>\n",
       "    .dataframe tbody tr th:only-of-type {\n",
       "        vertical-align: middle;\n",
       "    }\n",
       "\n",
       "    .dataframe tbody tr th {\n",
       "        vertical-align: top;\n",
       "    }\n",
       "\n",
       "    .dataframe thead th {\n",
       "        text-align: right;\n",
       "    }\n",
       "</style>\n",
       "<table border=\"1\" class=\"dataframe\">\n",
       "  <thead>\n",
       "    <tr style=\"text-align: right;\">\n",
       "      <th></th>\n",
       "      <th>headline</th>\n",
       "      <th>month</th>\n",
       "      <th>predicted_category</th>\n",
       "    </tr>\n",
       "  </thead>\n",
       "  <tbody>\n",
       "    <tr>\n",
       "      <th>0</th>\n",
       "      <td>#MeToo Cases’ New Legal Battleground: Defamati...</td>\n",
       "      <td>january</td>\n",
       "      <td>business</td>\n",
       "    </tr>\n",
       "    <tr>\n",
       "      <th>1</th>\n",
       "      <td>$1 Million Homes in South Dakota, Illinois and...</td>\n",
       "      <td>january</td>\n",
       "      <td>business</td>\n",
       "    </tr>\n",
       "    <tr>\n",
       "      <th>2</th>\n",
       "      <td>$1 Million Homes in South Dakota, Illinois and...</td>\n",
       "      <td>january</td>\n",
       "      <td>business</td>\n",
       "    </tr>\n",
       "    <tr>\n",
       "      <th>3</th>\n",
       "      <td>$1.2 Million Homes in New York, California and...</td>\n",
       "      <td>january</td>\n",
       "      <td>business</td>\n",
       "    </tr>\n",
       "    <tr>\n",
       "      <th>4</th>\n",
       "      <td>$1.4 Million Homes in California</td>\n",
       "      <td>january</td>\n",
       "      <td>business</td>\n",
       "    </tr>\n",
       "  </tbody>\n",
       "</table>\n",
       "</div>"
      ],
      "text/plain": [
       "                                            headline    month  \\\n",
       "0  #MeToo Cases’ New Legal Battleground: Defamati...  january   \n",
       "1  $1 Million Homes in South Dakota, Illinois and...  january   \n",
       "2  $1 Million Homes in South Dakota, Illinois and...  january   \n",
       "3  $1.2 Million Homes in New York, California and...  january   \n",
       "4                   $1.4 Million Homes in California  january   \n",
       "\n",
       "  predicted_category  \n",
       "0           business  \n",
       "1           business  \n",
       "2           business  \n",
       "3           business  \n",
       "4           business  "
      ]
     },
     "execution_count": 38,
     "metadata": {},
     "output_type": "execute_result"
    }
   ],
   "source": [
    "nyt2020_df['predicted_category'] = predict_categories_nn(model, nyt2020_df['headline'])\n",
    "nyt2020_df.to_csv(os.path.join('output', 'nyt2020_predictions.csv'))\n",
    "print('Saving 2020 New York Times news category predictions to output/nyt2020_predictions.csv')\n",
    "nyt2020_df.head()"
   ]
  },
  {
   "cell_type": "code",
   "execution_count": 39,
   "metadata": {},
   "outputs": [],
   "source": [
    "# List of 4-tuples, each tuple representing the monthly category counts\n",
    "category_counts = []\n",
    "\n",
    "months = ['january', 'february', 'march', 'april', 'may']\n",
    "\n",
    "for month in months:\n",
    "    # Get counts per category for each month \n",
    "    monthly_category_counts = nyt2020_df[nyt2020_df['month'] == month]['predicted_category'].value_counts().sort_index()\n",
    "    category_counts.append(list(monthly_category_counts))\n",
    "\n",
    "# Turn into lists of category counts for each category\n",
    "monthly_b, monthly_e, monthly_m, monthly_t = zip(*category_counts)"
   ]
  },
  {
   "cell_type": "code",
   "execution_count": 40,
   "metadata": {},
   "outputs": [
    {
     "name": "stdout",
     "output_type": "stream",
     "text": [
      "Saving as output/nyt2020.png...\n"
     ]
    },
    {
     "data": {
      "text/plain": [
       "<Figure size 432x288 with 0 Axes>"
      ]
     },
     "metadata": {},
     "output_type": "display_data"
    },
    {
     "data": {
      "image/png": "[encoded data removed]",
      "text/plain": [
       "<Figure size 720x720 with 1 Axes>"
      ]
     },
     "metadata": {},
     "output_type": "display_data"
    }
   ],
   "source": [
    "plt.clf()\n",
    "sns.set(font_scale = 1.5)\n",
    "plt.figure(figsize=(10,10))\n",
    "plt.title('2020 monthly counts of NYT articles per (predicted) news category')\n",
    "\n",
    "plt.plot(months, monthly_b, 'y-', label='Business')\n",
    "plt.plot(months, monthly_e, 'g-', label='Entertainment')\n",
    "plt.plot(months, monthly_m, 'r-', label='Health')\n",
    "plt.plot(months, monthly_t, 'b-', label='Science/Technology')\n",
    "plt.xlabel('Month')\n",
    "plt.ylabel('Number of NYT articles')\n",
    "plt.legend(loc='upper right')\n",
    "plt.savefig(os.path.join('output', 'nyt2020.png'))\n",
    "print(f'Saving as output/nyt2020.png...')\n",
    "plt.plot();"
   ]
  },
  {
   "cell_type": "markdown",
   "metadata": {},
   "source": [
    "## Remarks\n",
    "\n",
    "Unsurprisingly, we see a very sharp increase in health-related articles recently. Perhaps as a consequence of that, there were slight declines in the counts for the other categories.\n",
    "\n",
    "Though, because the 4 categories obviously do not encompass all of the New York Times' content, these results are not to be taken too seriously. In additions to this, there is also a considerable degree of randomness involved, so variations between runs are to be expected.\n",
    "\n",
    "Possible extensions to this project include incorporating other news article datasets,\n",
    "allow for more labels (categories), and multiple labels for one item (topics often overlap).\n",
    "Also, with a few adjustments, these models can be trained on other medium-sized text data,\n",
    "for instance, film synopses or YouTube comments."
   ]
  },
  {
   "cell_type": "code",
   "execution_count": null,
   "metadata": {},
   "outputs": [],
   "source": []
  }
 ],
 "metadata": {
  "kernelspec": {
   "display_name": "python (ml_env)",
   "language": "python",
   "name": "ml_env"
  },
  "language_info": {
   "codemirror_mode": {
    "name": "ipython",
    "version": 3
   },
   "file_extension": ".py",
   "mimetype": "text/x-python",
   "name": "python",
   "nbconvert_exporter": "python",
   "pygments_lexer": "ipython3",
   "version": "3.7.1"
  }
 },
 "nbformat": 4,
 "nbformat_minor": 4
}
