{
 "cells": [
  {
   "cell_type": "markdown",
   "metadata": {},
   "source": [
    "# News Categorizer\n",
    "\n",
    "Predicting news article categories by headline text.\n",
    "\n",
    "Compares three models: Naive Bayes, SGD, and neural network.\n",
    "\n",
    "The dataset is from https://www.kaggle.com/uciml/news-aggregator-dataset.\n",
    "\n",
    "It contains headlines, URLs, and categories for 422,937 news stories\n",
    "collected by a web aggregator between March 10th, 2014 and August 10th, 2014."
   ]
  },
  {
   "cell_type": "code",
   "execution_count": 123,
   "metadata": {},
   "outputs": [],
   "source": [
    "import pandas as pd\n",
    "import numpy as np\n",
    "import matplotlib.pyplot as plt\n",
    "import seaborn as sns\n",
    "\n",
    "import unicodedata\n",
    "import string\n",
    "import os\n",
    "import csv\n",
    "import re\n",
    "\n",
    "from sklearn.model_selection import train_test_split\n",
    "from sklearn.naive_bayes import MultinomialNB\n",
    "from sklearn.linear_model import SGDClassifier\n",
    "from sklearn.feature_extraction.text import CountVectorizer\n",
    "from sklearn.preprocessing import LabelEncoder, OneHotEncoder\n",
    "from sklearn.utils import shuffle\n",
    "\n",
    "import sklearn.metrics as skm"
   ]
  },
  {
   "cell_type": "markdown",
   "metadata": {},
   "source": [
    "## Retrieve raw data\n",
    "\n",
    "Read dataset as a CSV from local file."
   ]
  },
  {
   "cell_type": "code",
   "execution_count": 143,
   "metadata": {},
   "outputs": [
    {
     "name": "stdout",
     "output_type": "stream",
     "text": [
      "Read .csv file from local copy of dataset.\n",
      "(422419, 7)\n"
     ]
    },
    {
     "data": {
      "text/html": [
       "<div>\n",
       "<style scoped>\n",
       "    .dataframe tbody tr th:only-of-type {\n",
       "        vertical-align: middle;\n",
       "    }\n",
       "\n",
       "    .dataframe tbody tr th {\n",
       "        vertical-align: top;\n",
       "    }\n",
       "\n",
       "    .dataframe thead th {\n",
       "        text-align: right;\n",
       "    }\n",
       "</style>\n",
       "<table border=\"1\" class=\"dataframe\">\n",
       "  <thead>\n",
       "    <tr style=\"text-align: right;\">\n",
       "      <th></th>\n",
       "      <th>TITLE</th>\n",
       "      <th>URL</th>\n",
       "      <th>PUBLISHER</th>\n",
       "      <th>CATEGORY</th>\n",
       "      <th>STORY</th>\n",
       "      <th>HOSTNAME</th>\n",
       "      <th>TIMESTAMP</th>\n",
       "    </tr>\n",
       "    <tr>\n",
       "      <th>ID</th>\n",
       "      <th></th>\n",
       "      <th></th>\n",
       "      <th></th>\n",
       "      <th></th>\n",
       "      <th></th>\n",
       "      <th></th>\n",
       "      <th></th>\n",
       "    </tr>\n",
       "  </thead>\n",
       "  <tbody>\n",
       "    <tr>\n",
       "      <th>1</th>\n",
       "      <td>Fed official says weak data caused by weather,...</td>\n",
       "      <td>http://www.latimes.com/business/money/la-fi-mo...</td>\n",
       "      <td>Los Angeles Times</td>\n",
       "      <td>b</td>\n",
       "      <td>ddUyU0VZz0BRneMioxUPQVP6sIxvM</td>\n",
       "      <td>www.latimes.com</td>\n",
       "      <td>1394470370698</td>\n",
       "    </tr>\n",
       "    <tr>\n",
       "      <th>2</th>\n",
       "      <td>Fed's Charles Plosser sees high bar for change...</td>\n",
       "      <td>http://www.livemint.com/Politics/H2EvwJSK2VE6O...</td>\n",
       "      <td>Livemint</td>\n",
       "      <td>b</td>\n",
       "      <td>ddUyU0VZz0BRneMioxUPQVP6sIxvM</td>\n",
       "      <td>www.livemint.com</td>\n",
       "      <td>1394470371207</td>\n",
       "    </tr>\n",
       "    <tr>\n",
       "      <th>3</th>\n",
       "      <td>US open: Stocks fall after Fed official hints ...</td>\n",
       "      <td>http://www.ifamagazine.com/news/us-open-stocks...</td>\n",
       "      <td>IFA Magazine</td>\n",
       "      <td>b</td>\n",
       "      <td>ddUyU0VZz0BRneMioxUPQVP6sIxvM</td>\n",
       "      <td>www.ifamagazine.com</td>\n",
       "      <td>1394470371550</td>\n",
       "    </tr>\n",
       "    <tr>\n",
       "      <th>4</th>\n",
       "      <td>Fed risks falling 'behind the curve', Charles ...</td>\n",
       "      <td>http://www.ifamagazine.com/news/fed-risks-fall...</td>\n",
       "      <td>IFA Magazine</td>\n",
       "      <td>b</td>\n",
       "      <td>ddUyU0VZz0BRneMioxUPQVP6sIxvM</td>\n",
       "      <td>www.ifamagazine.com</td>\n",
       "      <td>1394470371793</td>\n",
       "    </tr>\n",
       "    <tr>\n",
       "      <th>5</th>\n",
       "      <td>Fed's Plosser: Nasty Weather Has Curbed Job Gr...</td>\n",
       "      <td>http://www.moneynews.com/Economy/federal-reser...</td>\n",
       "      <td>Moneynews</td>\n",
       "      <td>b</td>\n",
       "      <td>ddUyU0VZz0BRneMioxUPQVP6sIxvM</td>\n",
       "      <td>www.moneynews.com</td>\n",
       "      <td>1394470372027</td>\n",
       "    </tr>\n",
       "  </tbody>\n",
       "</table>\n",
       "</div>"
      ],
      "text/plain": [
       "                                                TITLE  \\\n",
       "ID                                                      \n",
       "1   Fed official says weak data caused by weather,...   \n",
       "2   Fed's Charles Plosser sees high bar for change...   \n",
       "3   US open: Stocks fall after Fed official hints ...   \n",
       "4   Fed risks falling 'behind the curve', Charles ...   \n",
       "5   Fed's Plosser: Nasty Weather Has Curbed Job Gr...   \n",
       "\n",
       "                                                  URL          PUBLISHER  \\\n",
       "ID                                                                         \n",
       "1   http://www.latimes.com/business/money/la-fi-mo...  Los Angeles Times   \n",
       "2   http://www.livemint.com/Politics/H2EvwJSK2VE6O...           Livemint   \n",
       "3   http://www.ifamagazine.com/news/us-open-stocks...       IFA Magazine   \n",
       "4   http://www.ifamagazine.com/news/fed-risks-fall...       IFA Magazine   \n",
       "5   http://www.moneynews.com/Economy/federal-reser...          Moneynews   \n",
       "\n",
       "   CATEGORY                          STORY             HOSTNAME      TIMESTAMP  \n",
       "ID                                                                              \n",
       "1         b  ddUyU0VZz0BRneMioxUPQVP6sIxvM      www.latimes.com  1394470370698  \n",
       "2         b  ddUyU0VZz0BRneMioxUPQVP6sIxvM     www.livemint.com  1394470371207  \n",
       "3         b  ddUyU0VZz0BRneMioxUPQVP6sIxvM  www.ifamagazine.com  1394470371550  \n",
       "4         b  ddUyU0VZz0BRneMioxUPQVP6sIxvM  www.ifamagazine.com  1394470371793  \n",
       "5         b  ddUyU0VZz0BRneMioxUPQVP6sIxvM    www.moneynews.com  1394470372027  "
      ]
     },
     "execution_count": 143,
     "metadata": {},
     "output_type": "execute_result"
    }
   ],
   "source": [
    "news_df = pd.read_csv(os.path.join('news-data', 'uci-news-aggregator.csv'), header=0, index_col=0, dtype=str)\n",
    "print('Read .csv file from local copy of dataset.')\n",
    "print(news_df.shape)\n",
    "news_df.head()"
   ]
  },
  {
   "cell_type": "markdown",
   "metadata": {},
   "source": [
    "## Pre-preprocessing\n",
    "\n",
    "Preprocessing transformations that can happen before the train/test split are those that are not dependent on the values contained in the dataset itself.\n",
    "\n",
    "Such steps are:\n",
    "\n",
    "* Checking for null values\n",
    "* Renaming columns\n",
    "* Standardising case\n",
    "* Removing punctuation\n",
    "\n",
    "There are 2 null values in `PUBLISHER`,\n",
    "but that field is neither a relevant feature nor the label to be predicted."
   ]
  },
  {
   "cell_type": "code",
   "execution_count": 125,
   "metadata": {},
   "outputs": [
    {
     "data": {
      "text/plain": [
       "TITLE        0\n",
       "URL          0\n",
       "PUBLISHER    2\n",
       "CATEGORY     0\n",
       "STORY        0\n",
       "HOSTNAME     0\n",
       "TIMESTAMP    0\n",
       "dtype: int64"
      ]
     },
     "execution_count": 125,
     "metadata": {},
     "output_type": "execute_result"
    }
   ],
   "source": [
    "# Check for null values\n",
    "news_df.isnull().sum()"
   ]
  },
  {
   "cell_type": "code",
   "execution_count": 126,
   "metadata": {},
   "outputs": [],
   "source": [
    "# Make labels more intuitive and human-readable\n",
    "CATEGORY_DICT = {\n",
    "    'b':'business',\n",
    "    'e':'entertainment',\n",
    "    'm':'health',\n",
    "    't':'science/technology'\n",
    "}\n",
    "\n",
    "news_df['CATEGORY'] = news_df['CATEGORY'].map(category_dict)"
   ]
  },
  {
   "cell_type": "code",
   "execution_count": 127,
   "metadata": {},
   "outputs": [],
   "source": [
    "def remove_punctuation(s1):\n",
    "    \"\"\"\n",
    "    Returns s1 unicode-normalised without punctuation.\n",
    "    \"\"\"\n",
    "    s1 = s1.translate(str.maketrans('', '', string.punctuation))\n",
    "\n",
    "    return unicodedata.normalize(\"NFKD\", s1)"
   ]
  },
  {
   "cell_type": "markdown",
   "metadata": {},
   "source": [
    "The relevant feature is the headline text (in `TITLE`), and the label is the news category (in `CATEGORY`)."
   ]
  },
  {
   "cell_type": "code",
   "execution_count": 128,
   "metadata": {},
   "outputs": [
    {
     "data": {
      "text/html": [
       "<div>\n",
       "<style scoped>\n",
       "    .dataframe tbody tr th:only-of-type {\n",
       "        vertical-align: middle;\n",
       "    }\n",
       "\n",
       "    .dataframe tbody tr th {\n",
       "        vertical-align: top;\n",
       "    }\n",
       "\n",
       "    .dataframe thead th {\n",
       "        text-align: right;\n",
       "    }\n",
       "</style>\n",
       "<table border=\"1\" class=\"dataframe\">\n",
       "  <thead>\n",
       "    <tr style=\"text-align: right;\">\n",
       "      <th></th>\n",
       "      <th>TITLE</th>\n",
       "      <th>URL</th>\n",
       "      <th>PUBLISHER</th>\n",
       "      <th>CATEGORY</th>\n",
       "      <th>STORY</th>\n",
       "      <th>HOSTNAME</th>\n",
       "      <th>TIMESTAMP</th>\n",
       "    </tr>\n",
       "    <tr>\n",
       "      <th>ID</th>\n",
       "      <th></th>\n",
       "      <th></th>\n",
       "      <th></th>\n",
       "      <th></th>\n",
       "      <th></th>\n",
       "      <th></th>\n",
       "      <th></th>\n",
       "    </tr>\n",
       "  </thead>\n",
       "  <tbody>\n",
       "    <tr>\n",
       "      <th>1</th>\n",
       "      <td>fed official says weak data caused by weather ...</td>\n",
       "      <td>http://www.latimes.com/business/money/la-fi-mo...</td>\n",
       "      <td>Los Angeles Times</td>\n",
       "      <td>business</td>\n",
       "      <td>ddUyU0VZz0BRneMioxUPQVP6sIxvM</td>\n",
       "      <td>www.latimes.com</td>\n",
       "      <td>1394470370698</td>\n",
       "    </tr>\n",
       "    <tr>\n",
       "      <th>2</th>\n",
       "      <td>feds charles plosser sees high bar for change ...</td>\n",
       "      <td>http://www.livemint.com/Politics/H2EvwJSK2VE6O...</td>\n",
       "      <td>Livemint</td>\n",
       "      <td>business</td>\n",
       "      <td>ddUyU0VZz0BRneMioxUPQVP6sIxvM</td>\n",
       "      <td>www.livemint.com</td>\n",
       "      <td>1394470371207</td>\n",
       "    </tr>\n",
       "    <tr>\n",
       "      <th>3</th>\n",
       "      <td>us open stocks fall after fed official hints a...</td>\n",
       "      <td>http://www.ifamagazine.com/news/us-open-stocks...</td>\n",
       "      <td>IFA Magazine</td>\n",
       "      <td>business</td>\n",
       "      <td>ddUyU0VZz0BRneMioxUPQVP6sIxvM</td>\n",
       "      <td>www.ifamagazine.com</td>\n",
       "      <td>1394470371550</td>\n",
       "    </tr>\n",
       "    <tr>\n",
       "      <th>4</th>\n",
       "      <td>fed risks falling behind the curve charles plo...</td>\n",
       "      <td>http://www.ifamagazine.com/news/fed-risks-fall...</td>\n",
       "      <td>IFA Magazine</td>\n",
       "      <td>business</td>\n",
       "      <td>ddUyU0VZz0BRneMioxUPQVP6sIxvM</td>\n",
       "      <td>www.ifamagazine.com</td>\n",
       "      <td>1394470371793</td>\n",
       "    </tr>\n",
       "    <tr>\n",
       "      <th>5</th>\n",
       "      <td>feds plosser nasty weather has curbed job growth</td>\n",
       "      <td>http://www.moneynews.com/Economy/federal-reser...</td>\n",
       "      <td>Moneynews</td>\n",
       "      <td>business</td>\n",
       "      <td>ddUyU0VZz0BRneMioxUPQVP6sIxvM</td>\n",
       "      <td>www.moneynews.com</td>\n",
       "      <td>1394470372027</td>\n",
       "    </tr>\n",
       "  </tbody>\n",
       "</table>\n",
       "</div>"
      ],
      "text/plain": [
       "                                                TITLE  \\\n",
       "ID                                                      \n",
       "1   fed official says weak data caused by weather ...   \n",
       "2   feds charles plosser sees high bar for change ...   \n",
       "3   us open stocks fall after fed official hints a...   \n",
       "4   fed risks falling behind the curve charles plo...   \n",
       "5    feds plosser nasty weather has curbed job growth   \n",
       "\n",
       "                                                  URL          PUBLISHER  \\\n",
       "ID                                                                         \n",
       "1   http://www.latimes.com/business/money/la-fi-mo...  Los Angeles Times   \n",
       "2   http://www.livemint.com/Politics/H2EvwJSK2VE6O...           Livemint   \n",
       "3   http://www.ifamagazine.com/news/us-open-stocks...       IFA Magazine   \n",
       "4   http://www.ifamagazine.com/news/fed-risks-fall...       IFA Magazine   \n",
       "5   http://www.moneynews.com/Economy/federal-reser...          Moneynews   \n",
       "\n",
       "    CATEGORY                          STORY             HOSTNAME  \\\n",
       "ID                                                                 \n",
       "1   business  ddUyU0VZz0BRneMioxUPQVP6sIxvM      www.latimes.com   \n",
       "2   business  ddUyU0VZz0BRneMioxUPQVP6sIxvM     www.livemint.com   \n",
       "3   business  ddUyU0VZz0BRneMioxUPQVP6sIxvM  www.ifamagazine.com   \n",
       "4   business  ddUyU0VZz0BRneMioxUPQVP6sIxvM  www.ifamagazine.com   \n",
       "5   business  ddUyU0VZz0BRneMioxUPQVP6sIxvM    www.moneynews.com   \n",
       "\n",
       "        TIMESTAMP  \n",
       "ID                 \n",
       "1   1394470370698  \n",
       "2   1394470371207  \n",
       "3   1394470371550  \n",
       "4   1394470371793  \n",
       "5   1394470372027  "
      ]
     },
     "execution_count": 128,
     "metadata": {},
     "output_type": "execute_result"
    }
   ],
   "source": [
    "# Make all the headlines lowercase and remove punctuation\n",
    "news_df['TITLE'] = news_df['TITLE'].str.lower()\n",
    "news_df['TITLE'] = news_df['TITLE'].apply(remove_punctuation)\n",
    "\n",
    "# Designate features and labels\n",
    "features = news_df[['TITLE']]\n",
    "labels = news_df[['CATEGORY']]\n",
    "\n",
    "news_df.head()"
   ]
  },
  {
   "cell_type": "markdown",
   "metadata": {},
   "source": [
    "# Statistical machine learning approach, naive Bayes and SGD\n",
    "\n",
    "We use `sklearn`'s implementations of both models."
   ]
  },
  {
   "cell_type": "code",
   "execution_count": 129,
   "metadata": {},
   "outputs": [
    {
     "data": {
      "text/plain": [
       "((337935, 1), (84484, 1), (337935, 1), (84484, 1))"
      ]
     },
     "execution_count": 129,
     "metadata": {},
     "output_type": "execute_result"
    }
   ],
   "source": [
    "# split into train and test sets\n",
    "x_train, x_test, y_train, y_test = train_test_split(features, labels, test_size=0.2)\n",
    "\n",
    "x_train.shape, x_test.shape, y_train.shape, y_test.shape"
   ]
  },
  {
   "cell_type": "markdown",
   "metadata": {},
   "source": [
    "### Preprocessing\n",
    "\n",
    "In each instance, we avoid data leakage by\n",
    "\"fitting on train and transforming both train and test\".\n",
    "\n",
    "This ensures that information contained in the test set\n",
    "is not factored in by the model at training time (avoids over-optimistic results).\n",
    "\n",
    "\n",
    "The preprocessing steps are shared between naive Bayes and SGD:\n",
    "\n",
    "* Convert text (the single feature) into count vectors\n",
    "* Encode the categories (the label)"
   ]
  },
  {
   "cell_type": "code",
   "execution_count": 130,
   "metadata": {},
   "outputs": [],
   "source": [
    "# Turn text into integer count vectors\n",
    "vectorizer = CountVectorizer()\n",
    "vectorizer.fit(x_train['TITLE'])\n",
    "\n",
    "x_train = vectorizer.transform(x_train['TITLE'])\n",
    "x_test = vectorizer.transform(x_test['TITLE'])\n",
    "\n",
    "# Turn categories into integers\n",
    "# 0: business, 1: entertainment, 2: health, 3: science/technology\n",
    "encoder = LabelEncoder()\n",
    "encoder.fit(y_train['CATEGORY'])\n",
    "\n",
    "y_train = encoder.transform(y_train['CATEGORY'])\n",
    "y_test = encoder.transform(y_test['CATEGORY'])"
   ]
  },
  {
   "cell_type": "markdown",
   "metadata": {},
   "source": [
    "### Training and evaluating the models\n",
    "\n",
    "Both models' accuracies are above 90%, with default parameters.\n",
    "\n",
    "SGD outperforms the Naive Bayes (~93.7% compared to ~92.6%), but takes slightly longer to train."
   ]
  },
  {
   "cell_type": "code",
   "execution_count": 131,
   "metadata": {},
   "outputs": [
    {
     "name": "stdout",
     "output_type": "stream",
     "text": [
      "Multinomial Naive Bayes accuracy:\n",
      "\n",
      "0.9266014866720326\n"
     ]
    }
   ],
   "source": [
    "# Naive Bayes model\n",
    "nb = MultinomialNB()\n",
    "nb.fit(x_train, y_train)\n",
    "\n",
    "score = nb.score(x_test, y_test)\n",
    "print(f'Multinomial Naive Bayes accuracy:\\n\\n{score}')"
   ]
  },
  {
   "cell_type": "code",
   "execution_count": 132,
   "metadata": {},
   "outputs": [
    {
     "name": "stdout",
     "output_type": "stream",
     "text": [
      "SGD classsifier accuracy:\n",
      "\n",
      "0.9375976516263435\n"
     ]
    }
   ],
   "source": [
    "# Stochastic gradient descent classifier\n",
    "sgd = SGDClassifier(early_stopping=True)\n",
    "sgd.fit(x_train, y_train)\n",
    "\n",
    "score = sgd.score(x_test, y_test)\n",
    "print(f'SGD classsifier accuracy:\\n\\n{score}')"
   ]
  },
  {
   "cell_type": "markdown",
   "metadata": {},
   "source": [
    "#### Some other classifier models\n",
    "\n",
    "These models are relatively slow to train, and underperformed in tests."
   ]
  },
  {
   "cell_type": "code",
   "execution_count": 133,
   "metadata": {},
   "outputs": [],
   "source": [
    "# from sklearn.svm import LinearSVC\n",
    "\n",
    "# svc = LinearSVC()\n",
    "# svc.fit(x_train, y_train)\n",
    "# svc.score(x_test, y_test)"
   ]
  },
  {
   "cell_type": "code",
   "execution_count": 134,
   "metadata": {},
   "outputs": [],
   "source": [
    "# from sklearn.ensemble import RandomForestClassifier\n",
    "\n",
    "# forest = RandomForestClassifier()\n",
    "# forest = forest.fit(x_train, y_train)\n",
    "# forest.score(x_test, y_test)"
   ]
  },
  {
   "cell_type": "markdown",
   "metadata": {},
   "source": [
    "### Visualizing the results\n",
    "\n",
    "We use `seaborn`'s heatmap to visualise the confusion matrices."
   ]
  },
  {
   "cell_type": "code",
   "execution_count": 137,
   "metadata": {},
   "outputs": [],
   "source": [
    "def confusion_mat(model_name, confusion_matrix, cmap='YlOrBr'):\n",
    "    '''\n",
    "    Displays the given confusion matrix for the given model name.\n",
    "    '''\n",
    "\n",
    "    cm = pd.DataFrame(confusion_matrix)\n",
    "    sns.set(font_scale = 1.5)\n",
    "    plt.figure(figsize = (8,8))\n",
    "    \n",
    "    # x and y labels are based on the global CATEGORY_DICT\n",
    "    sns.heatmap(cm, cmap = cmap,linewidths = 1, annot = True,square = True, fmt='d', cbar = False,\n",
    "                xticklabels = CATEGORY_DICT.values(),\n",
    "                yticklabels = CATEGORY_DICT.values())\n",
    "    plt.xticks(rotation = 0)\n",
    "    plt.yticks(rotation = 0)\n",
    "    plt.title(f'Confusion Matrix for {model_name}')\n",
    "    plt.xlabel('Predicted Classes', rotation=0)\n",
    "    plt.ylabel('Actual Classes', rotation=0)"
   ]
  },
  {
   "cell_type": "markdown",
   "metadata": {},
   "source": [
    "#### Visualize Naive Bayes"
   ]
  },
  {
   "cell_type": "code",
   "execution_count": 138,
   "metadata": {},
   "outputs": [
    {
     "data": {
      "image/png": "[encoded data removed]",
      "text/plain": [
       "<Figure size 576x576 with 1 Axes>"
      ]
     },
     "metadata": {},
     "output_type": "display_data"
    }
   ],
   "source": [
    "# Visualise Naive Bayes\n",
    "y_pred = nb.predict(x_test)\n",
    "matrix = skm.confusion_matrix(y_test, y_pred)\n",
    "confusion_mat('Naive Bayes', matrix)"
   ]
  },
  {
   "cell_type": "markdown",
   "metadata": {},
   "source": [
    "#### Visualize SGD"
   ]
  },
  {
   "cell_type": "code",
   "execution_count": 144,
   "metadata": {},
   "outputs": [
    {
     "data": {
      "image/png": "[encoded data removed]",
      "text/plain": [
       "<Figure size 576x576 with 1 Axes>"
      ]
     },
     "metadata": {},
     "output_type": "display_data"
    }
   ],
   "source": [
    "y_pred = sgd.predict(x_test)\n",
    "matrix = skm.confusion_matrix(y_test, y_pred)\n",
    "confusion_mat('SGD', matrix)"
   ]
  },
  {
   "cell_type": "markdown",
   "metadata": {},
   "source": [
    "## Testing the models on data not in the dataset"
   ]
  },
  {
   "cell_type": "code",
   "execution_count": 145,
   "metadata": {},
   "outputs": [],
   "source": [
    "def predict_categories(model, titles):\n",
    "    '''\n",
    "    Use the given model to predict categories for the given news headline titles. \n",
    "    '''\n",
    "    titles = pd.Series(titles)\n",
    "    \n",
    "    # mirror preprocessing transformations before feeding as input to the model\n",
    "    titles = titles.str.lower()\n",
    "    titles = titles.apply(remove_punctuation)\n",
    "    \n",
    "    text = vectorizer.transform(titles)\n",
    "\n",
    "    categories = model.predict(text)\n",
    "    \n",
    "    return encoder.inverse_transform(categories)"
   ]
  },
  {
   "cell_type": "markdown",
   "metadata": {},
   "source": [
    "Now we test the models on some recent (June 2020) article headlines from the New York Times, Reuters, E!, and other websites. Some non-obvious headlines (e.g. 'Watch This Black Hole Blow Bubbles') are deliberately chosen."
   ]
  },
  {
   "cell_type": "code",
   "execution_count": 150,
   "metadata": {},
   "outputs": [],
   "source": [
    "titles = [\n",
    "    'The Sea’s Weirdest Creatures, Now in ‘Staggering’ Detail',\n",
    "    'Watch This Black Hole Blow Bubbles',\n",
    "    'Falling Jobless Rate Could Imperil Aid Underpinning the Recovery',\n",
    "    'OPEC and Russia Are Likely to Extend Oil Production Cuts',\n",
    "    'Doctors Heavily Overprescribed Antibiotics Early in the Pandemic',\n",
    "    '15 Years Since Tom Cruise Infamously Jumped on Oprah\\'s Couch',\n",
    "    'YouTube is hosting a star-studded tribute to the class of 2020 this weekend',\n",
    "    'Malaysia reports 37 new coronavirus cases, one new death',\n",
    "    'Protests in Australia, Japan embrace \\'Black Lives Matter\\' movement',\n",
    "    'Tesla Model Y attacks the race track on Autopilot'\n",
    "]\n",
    "test_df = pd.DataFrame(titles, columns=['title'])"
   ]
  },
  {
   "cell_type": "code",
   "execution_count": 149,
   "metadata": {},
   "outputs": [
    {
     "data": {
      "text/html": [
       "<div>\n",
       "<style scoped>\n",
       "    .dataframe tbody tr th:only-of-type {\n",
       "        vertical-align: middle;\n",
       "    }\n",
       "\n",
       "    .dataframe tbody tr th {\n",
       "        vertical-align: top;\n",
       "    }\n",
       "\n",
       "    .dataframe thead th {\n",
       "        text-align: right;\n",
       "    }\n",
       "</style>\n",
       "<table border=\"1\" class=\"dataframe\">\n",
       "  <thead>\n",
       "    <tr style=\"text-align: right;\">\n",
       "      <th></th>\n",
       "      <th>title</th>\n",
       "      <th>predicted_category</th>\n",
       "    </tr>\n",
       "  </thead>\n",
       "  <tbody>\n",
       "    <tr>\n",
       "      <th>2</th>\n",
       "      <td>Falling Jobless Rate Could Imperil Aid Underpi...</td>\n",
       "      <td>business</td>\n",
       "    </tr>\n",
       "    <tr>\n",
       "      <th>3</th>\n",
       "      <td>OPEC and Russia Are Likely to Extend Oil Produ...</td>\n",
       "      <td>business</td>\n",
       "    </tr>\n",
       "    <tr>\n",
       "      <th>8</th>\n",
       "      <td>Protests in Australia, Japan embrace 'Black Li...</td>\n",
       "      <td>business</td>\n",
       "    </tr>\n",
       "    <tr>\n",
       "      <th>1</th>\n",
       "      <td>Watch This Black Hole Blow Bubbles</td>\n",
       "      <td>entertainment</td>\n",
       "    </tr>\n",
       "    <tr>\n",
       "      <th>5</th>\n",
       "      <td>15 Years Since Tom Cruise Infamously Jumped on...</td>\n",
       "      <td>entertainment</td>\n",
       "    </tr>\n",
       "    <tr>\n",
       "      <th>6</th>\n",
       "      <td>YouTube is hosting a star-studded tribute to t...</td>\n",
       "      <td>entertainment</td>\n",
       "    </tr>\n",
       "    <tr>\n",
       "      <th>4</th>\n",
       "      <td>Doctors Heavily Overprescribed Antibiotics Ear...</td>\n",
       "      <td>health</td>\n",
       "    </tr>\n",
       "    <tr>\n",
       "      <th>7</th>\n",
       "      <td>Malaysia reports 37 new coronavirus cases, one...</td>\n",
       "      <td>health</td>\n",
       "    </tr>\n",
       "    <tr>\n",
       "      <th>0</th>\n",
       "      <td>The Sea’s Weirdest Creatures, Now in ‘Staggeri...</td>\n",
       "      <td>science/technology</td>\n",
       "    </tr>\n",
       "    <tr>\n",
       "      <th>9</th>\n",
       "      <td>Tesla Model Y attacks the race track on Autopilot</td>\n",
       "      <td>science/technology</td>\n",
       "    </tr>\n",
       "  </tbody>\n",
       "</table>\n",
       "</div>"
      ],
      "text/plain": [
       "                                               title  predicted_category\n",
       "2  Falling Jobless Rate Could Imperil Aid Underpi...            business\n",
       "3  OPEC and Russia Are Likely to Extend Oil Produ...            business\n",
       "8  Protests in Australia, Japan embrace 'Black Li...            business\n",
       "1                 Watch This Black Hole Blow Bubbles       entertainment\n",
       "5  15 Years Since Tom Cruise Infamously Jumped on...       entertainment\n",
       "6  YouTube is hosting a star-studded tribute to t...       entertainment\n",
       "4  Doctors Heavily Overprescribed Antibiotics Ear...              health\n",
       "7  Malaysia reports 37 new coronavirus cases, one...              health\n",
       "0  The Sea’s Weirdest Creatures, Now in ‘Staggeri...  science/technology\n",
       "9  Tesla Model Y attacks the race track on Autopilot  science/technology"
      ]
     },
     "execution_count": 149,
     "metadata": {},
     "output_type": "execute_result"
    }
   ],
   "source": [
    "# Naive Bayes predictions\n",
    "\n",
    "test_df['predicted_category'] = predict_categories(nb, titles)\n",
    "test_df.sort_values(by='predicted_category')"
   ]
  },
  {
   "cell_type": "code",
   "execution_count": 151,
   "metadata": {},
   "outputs": [
    {
     "data": {
      "text/html": [
       "<div>\n",
       "<style scoped>\n",
       "    .dataframe tbody tr th:only-of-type {\n",
       "        vertical-align: middle;\n",
       "    }\n",
       "\n",
       "    .dataframe tbody tr th {\n",
       "        vertical-align: top;\n",
       "    }\n",
       "\n",
       "    .dataframe thead th {\n",
       "        text-align: right;\n",
       "    }\n",
       "</style>\n",
       "<table border=\"1\" class=\"dataframe\">\n",
       "  <thead>\n",
       "    <tr style=\"text-align: right;\">\n",
       "      <th></th>\n",
       "      <th>title</th>\n",
       "      <th>predicted_category</th>\n",
       "    </tr>\n",
       "  </thead>\n",
       "  <tbody>\n",
       "    <tr>\n",
       "      <th>2</th>\n",
       "      <td>Falling Jobless Rate Could Imperil Aid Underpi...</td>\n",
       "      <td>business</td>\n",
       "    </tr>\n",
       "    <tr>\n",
       "      <th>3</th>\n",
       "      <td>OPEC and Russia Are Likely to Extend Oil Produ...</td>\n",
       "      <td>business</td>\n",
       "    </tr>\n",
       "    <tr>\n",
       "      <th>8</th>\n",
       "      <td>Protests in Australia, Japan embrace 'Black Li...</td>\n",
       "      <td>business</td>\n",
       "    </tr>\n",
       "    <tr>\n",
       "      <th>1</th>\n",
       "      <td>Watch This Black Hole Blow Bubbles</td>\n",
       "      <td>entertainment</td>\n",
       "    </tr>\n",
       "    <tr>\n",
       "      <th>5</th>\n",
       "      <td>15 Years Since Tom Cruise Infamously Jumped on...</td>\n",
       "      <td>entertainment</td>\n",
       "    </tr>\n",
       "    <tr>\n",
       "      <th>6</th>\n",
       "      <td>YouTube is hosting a star-studded tribute to t...</td>\n",
       "      <td>entertainment</td>\n",
       "    </tr>\n",
       "    <tr>\n",
       "      <th>4</th>\n",
       "      <td>Doctors Heavily Overprescribed Antibiotics Ear...</td>\n",
       "      <td>health</td>\n",
       "    </tr>\n",
       "    <tr>\n",
       "      <th>7</th>\n",
       "      <td>Malaysia reports 37 new coronavirus cases, one...</td>\n",
       "      <td>health</td>\n",
       "    </tr>\n",
       "    <tr>\n",
       "      <th>0</th>\n",
       "      <td>The Sea’s Weirdest Creatures, Now in ‘Staggeri...</td>\n",
       "      <td>science/technology</td>\n",
       "    </tr>\n",
       "    <tr>\n",
       "      <th>9</th>\n",
       "      <td>Tesla Model Y attacks the race track on Autopilot</td>\n",
       "      <td>science/technology</td>\n",
       "    </tr>\n",
       "  </tbody>\n",
       "</table>\n",
       "</div>"
      ],
      "text/plain": [
       "                                               title  predicted_category\n",
       "2  Falling Jobless Rate Could Imperil Aid Underpi...            business\n",
       "3  OPEC and Russia Are Likely to Extend Oil Produ...            business\n",
       "8  Protests in Australia, Japan embrace 'Black Li...            business\n",
       "1                 Watch This Black Hole Blow Bubbles       entertainment\n",
       "5  15 Years Since Tom Cruise Infamously Jumped on...       entertainment\n",
       "6  YouTube is hosting a star-studded tribute to t...       entertainment\n",
       "4  Doctors Heavily Overprescribed Antibiotics Ear...              health\n",
       "7  Malaysia reports 37 new coronavirus cases, one...              health\n",
       "0  The Sea’s Weirdest Creatures, Now in ‘Staggeri...  science/technology\n",
       "9  Tesla Model Y attacks the race track on Autopilot  science/technology"
      ]
     },
     "execution_count": 151,
     "metadata": {},
     "output_type": "execute_result"
    }
   ],
   "source": [
    "# SGD predictions\n",
    "\n",
    "test_df['predicted_category'] = predict_categories(sgd, titles)\n",
    "test_df.sort_values(by='predicted_category')"
   ]
  },
  {
   "cell_type": "markdown",
   "metadata": {},
   "source": [
    "We see that the predictions of the two models are similar and mostly accurate,\n",
    "and that **it is able to classify 2020 topics, despite being trained on 2014 news headlines.**"
   ]
  },
  {
   "cell_type": "markdown",
   "metadata": {},
   "source": [
    "### Custom tests"
   ]
  },
  {
   "cell_type": "code",
   "execution_count": 156,
   "metadata": {},
   "outputs": [
    {
     "name": "stdout",
     "output_type": "stream",
     "text": [
      "(Naive Bayes) Type in a news headline:\n",
      "\n",
      "\n",
      "\n",
      "predicted category: entertainment.\n"
     ]
    }
   ],
   "source": [
    "custom_title = input(\"(Naive Bayes) Type in a news headline:\\n\\n\")\n",
    "print(\n",
    "    f'\\npredicted category: '\n",
    "    f'{predict_categories(nb, [custom_title,])[0]}.'\n",
    ")"
   ]
  },
  {
   "cell_type": "markdown",
   "metadata": {},
   "source": [
    "# Neural Network Approach with Keras"
   ]
  },
  {
   "cell_type": "code",
   "execution_count": 58,
   "metadata": {},
   "outputs": [
    {
     "data": {
      "text/plain": [
       "((337935, 1), (84484, 1), (337935, 1), (84484, 1))"
      ]
     },
     "execution_count": 58,
     "metadata": {},
     "output_type": "execute_result"
    }
   ],
   "source": [
    "# split into train and test sets\n",
    "x_train, x_test, y_train, y_test = train_test_split(features, labels, test_size=0.2)\n",
    "x_train.shape, x_test.shape, y_train.shape, y_test.shape"
   ]
  },
  {
   "cell_type": "code",
   "execution_count": 59,
   "metadata": {},
   "outputs": [
    {
     "name": "stdout",
     "output_type": "stream",
     "text": [
      "average length of headline text: 54.908 characters\n"
     ]
    }
   ],
   "source": [
    "headline_lengths = [len(x) for x in news_df['TITLE'].values]\n",
    "print(f'average length of headline text: {np.mean(headline_lengths):.3f} characters')"
   ]
  },
  {
   "cell_type": "code",
   "execution_count": 60,
   "metadata": {},
   "outputs": [
    {
     "name": "stderr",
     "output_type": "stream",
     "text": [
      "Using TensorFlow backend.\n"
     ]
    }
   ],
   "source": [
    "from keras.preprocessing.text import Tokenizer\n",
    "from keras.preprocessing.sequence import pad_sequences\n",
    "\n",
    "# from keras.utils.np_utils import to_categorical\n",
    "# from keras.callbacks import EarlyStopping\n",
    "\n",
    "# turn titles into lists of tokens,\n",
    "# each token is represented by a number,\n",
    "# which is its index in the dictionary of 10000 most common unique tokens\n",
    "# contained in the text it was fitted on, i.e. all the headlines in the dataset\n",
    "\n",
    "n_most_common_words = 10000\n",
    "tokenizer = Tokenizer(num_words=n_most_common_words, filters=string.punctuation, lower=True)\n",
    "tokenizer.fit_on_texts(x_train['TITLE'].values)\n",
    "\n",
    "x_train = tokenizer.texts_to_sequences(x_train['TITLE'].values)\n",
    "x_test = tokenizer.texts_to_sequences(x_test['TITLE'].values)\n",
    "\n",
    "# word_index = tokenizer.word_index\n",
    "# print('Found %s unique tokens.' % len(word_index))\n",
    "\n",
    "#X = pad_sequences(sequences, maxlen=max_len)"
   ]
  },
  {
   "cell_type": "code",
   "execution_count": 61,
   "metadata": {},
   "outputs": [],
   "source": [
    "# set max title length to be used as input to be 200\n",
    "# pad and truncate as necessary\n",
    "\n",
    "max_title_length = 200\n",
    "\n",
    "x_train = pad_sequences(x_train, maxlen=max_title_length)\n",
    "x_test = pad_sequences(x_test, maxlen=max_title_length)\n",
    "\n",
    "#features.shape"
   ]
  },
  {
   "cell_type": "code",
   "execution_count": 62,
   "metadata": {},
   "outputs": [],
   "source": [
    "onehot = OneHotEncoder()\n",
    "onehot.fit(y_train)\n",
    "\n",
    "y_train = onehot.transform(y_train)\n",
    "y_test = onehot.transform(y_test)\n",
    "\n",
    "#labels = encoder.transform(news_df['CATEGORY'])"
   ]
  },
  {
   "cell_type": "code",
   "execution_count": 63,
   "metadata": {},
   "outputs": [
    {
     "name": "stdout",
     "output_type": "stream",
     "text": [
      "Model: \"sequential_1\"\n",
      "_________________________________________________________________\n",
      "Layer (type)                 Output Shape              Param #   \n",
      "=================================================================\n",
      "embedding_1 (Embedding)      (None, 200, 32)           320000    \n",
      "_________________________________________________________________\n",
      "flatten_1 (Flatten)          (None, 6400)              0         \n",
      "_________________________________________________________________\n",
      "dense_1 (Dense)              (None, 16)                102416    \n",
      "_________________________________________________________________\n",
      "dense_2 (Dense)              (None, 16)                272       \n",
      "_________________________________________________________________\n",
      "dense_3 (Dense)              (None, 4)                 68        \n",
      "=================================================================\n",
      "Total params: 422,756\n",
      "Trainable params: 422,756\n",
      "Non-trainable params: 0\n",
      "_________________________________________________________________\n",
      "None\n"
     ]
    }
   ],
   "source": [
    "from keras.models import Sequential\n",
    "from keras.layers import Dense\n",
    "from keras.layers.embeddings import Embedding\n",
    "from keras.layers import Flatten\n",
    "\n",
    "embedding_vector_length = 32\n",
    "model = Sequential()\n",
    "model.add(Embedding(n_most_common_words, embedding_vector_length, input_length=max_title_length))\n",
    "model.add(Flatten())\n",
    "model.add(Dense(16, activation='relu'))\n",
    "model.add(Dense(16, activation='relu'))\n",
    "model.add(Dense(4, activation='sigmoid'))\n",
    "model.compile(loss='binary_crossentropy',optimizer='adam', metrics=['accuracy'])\n",
    "print(model.summary())"
   ]
  },
  {
   "cell_type": "code",
   "execution_count": 64,
   "metadata": {},
   "outputs": [
    {
     "name": "stderr",
     "output_type": "stream",
     "text": [
      "C:\\Users\\Jonathan\\miniconda3\\envs\\ml_env\\lib\\site-packages\\tensorflow_core\\python\\framework\\indexed_slices.py:433: UserWarning: Converting sparse IndexedSlices to a dense Tensor of unknown shape. This may consume a large amount of memory.\n",
      "  \"Converting sparse IndexedSlices to a dense Tensor of unknown shape. \"\n"
     ]
    },
    {
     "name": "stdout",
     "output_type": "stream",
     "text": [
      "Train on 337935 samples, validate on 84484 samples\n",
      "Epoch 1/5\n",
      "337935/337935 [==============================] - 24s 72us/step - loss: 0.1413 - accuracy: 0.9439 - val_loss: 0.0870 - val_accuracy: 0.9683\n",
      "Epoch 2/5\n",
      "337935/337935 [==============================] - 24s 71us/step - loss: 0.0760 - accuracy: 0.9720 - val_loss: 0.0827 - val_accuracy: 0.9695\n",
      "Epoch 3/5\n",
      "337935/337935 [==============================] - 24s 70us/step - loss: 0.0649 - accuracy: 0.9761 - val_loss: 0.0842 - val_accuracy: 0.9686\n",
      "Epoch 4/5\n",
      "337935/337935 [==============================] - 25s 75us/step - loss: 0.0545 - accuracy: 0.9803 - val_loss: 0.0899 - val_accuracy: 0.9674\n",
      "Epoch 5/5\n",
      "337935/337935 [==============================] - 24s 71us/step - loss: 0.0454 - accuracy: 0.9837 - val_loss: 0.0980 - val_accuracy: 0.9655\n"
     ]
    }
   ],
   "source": [
    "hist = model.fit(x_train, y_train.todense(),\n",
    "                 validation_data=(x_test, y_test.todense()),\n",
    "                 epochs=4,\n",
    "                 batch_size=128)"
   ]
  },
  {
   "cell_type": "code",
   "execution_count": 70,
   "metadata": {},
   "outputs": [
    {
     "data": {
      "text/plain": [
       "[]"
      ]
     },
     "execution_count": 70,
     "metadata": {},
     "output_type": "execute_result"
    },
    {
     "data": {
      "image/png": "[encoded data removed]",
      "text/plain": [
       "<Figure size 432x288 with 1 Axes>"
      ]
     },
     "metadata": {
      "needs_background": "light"
     },
     "output_type": "display_data"
    }
   ],
   "source": [
    "#0.9645\n",
    "# > 0.9637\n",
    "# sig0.9669\n",
    "%matplotlib inline\n",
    "\n",
    "acc = hist.history['accuracy']\n",
    "val = hist.history['val_accuracy']\n",
    "epochs = range(1, len(acc) + 1)\n",
    "\n",
    "plt.plot(epochs, acc, '-', label='Training accuracy')\n",
    "plt.plot(epochs, val, ':', label='Validation accuracy')\n",
    "plt.title('Training and Validation Accuracy')\n",
    "plt.xlabel('Epoch')\n",
    "plt.ylabel('Accuracy')\n",
    "plt.legend(loc='lower right')\n",
    "plt.plot()"
   ]
  },
  {
   "cell_type": "code",
   "execution_count": 72,
   "metadata": {},
   "outputs": [
    {
     "data": {
      "text/plain": [
       "[]"
      ]
     },
     "execution_count": 72,
     "metadata": {},
     "output_type": "execute_result"
    },
    {
     "data": {
      "image/png": "[encoded data removed]",
      "text/plain": [
       "<Figure size 432x288 with 1 Axes>"
      ]
     },
     "metadata": {
      "needs_background": "light"
     },
     "output_type": "display_data"
    }
   ],
   "source": [
    "loss = hist.history['loss']\n",
    "val_loss = hist.history['val_loss']\n",
    "\n",
    "plt.plot(epochs, loss, '-', label='Training loss')\n",
    "plt.plot(epochs, val_loss, ':', label='Validation loss')\n",
    "plt.title('Training and Validation Loss')\n",
    "plt.xlabel('Epoch')\n",
    "plt.ylabel('Loss')\n",
    "plt.legend(loc='upper right')\n",
    "plt.plot()"
   ]
  },
  {
   "cell_type": "code",
   "execution_count": 79,
   "metadata": {},
   "outputs": [
    {
     "name": "stdout",
     "output_type": "stream",
     "text": [
      "84484/84484 [==============================] - 3s 32us/step\n",
      "Test set\n",
      "  Loss: 0.0980\n",
      "  Accuracy: 0.9655\n"
     ]
    }
   ],
   "source": [
    "score = model.evaluate(x_test,y_test)\n",
    "print('Test set\\n  Loss: {:0.4f}\\n  Accuracy: {:0.4f}'.format(score[0],score[1]))"
   ]
  },
  {
   "cell_type": "code",
   "execution_count": 80,
   "metadata": {},
   "outputs": [],
   "source": [
    "def predict_categories_nn(model, titles):\n",
    "    \n",
    "    sequences = tokenizer.texts_to_sequences(titles)\n",
    "    text = pad_sequences(sequences, maxlen=max_title_length)\n",
    "\n",
    "    categories = model.predict_classes(text)\n",
    "    \n",
    "    return encoder.inverse_transform(categories)"
   ]
  },
  {
   "cell_type": "code",
   "execution_count": 81,
   "metadata": {},
   "outputs": [
    {
     "data": {
      "text/html": [
       "<div>\n",
       "<style scoped>\n",
       "    .dataframe tbody tr th:only-of-type {\n",
       "        vertical-align: middle;\n",
       "    }\n",
       "\n",
       "    .dataframe tbody tr th {\n",
       "        vertical-align: top;\n",
       "    }\n",
       "\n",
       "    .dataframe thead th {\n",
       "        text-align: right;\n",
       "    }\n",
       "</style>\n",
       "<table border=\"1\" class=\"dataframe\">\n",
       "  <thead>\n",
       "    <tr style=\"text-align: right;\">\n",
       "      <th></th>\n",
       "      <th>title</th>\n",
       "      <th>predicted_category</th>\n",
       "    </tr>\n",
       "  </thead>\n",
       "  <tbody>\n",
       "    <tr>\n",
       "      <th>2</th>\n",
       "      <td>Falling Jobless Rate Could Imperil Aid Underpi...</td>\n",
       "      <td>business</td>\n",
       "    </tr>\n",
       "    <tr>\n",
       "      <th>3</th>\n",
       "      <td>OPEC and Russia Are Likely to Extend Oil Produ...</td>\n",
       "      <td>business</td>\n",
       "    </tr>\n",
       "    <tr>\n",
       "      <th>5</th>\n",
       "      <td>15 Years Since Tom Cruise Infamously Jumped on...</td>\n",
       "      <td>entertainment</td>\n",
       "    </tr>\n",
       "    <tr>\n",
       "      <th>6</th>\n",
       "      <td>YouTube is hosting a star-studded tribute to t...</td>\n",
       "      <td>entertainment</td>\n",
       "    </tr>\n",
       "    <tr>\n",
       "      <th>4</th>\n",
       "      <td>Doctors Heavily Overprescribed Antibiotics Ear...</td>\n",
       "      <td>health</td>\n",
       "    </tr>\n",
       "    <tr>\n",
       "      <th>0</th>\n",
       "      <td>The Sea’s Weirdest Creatures, Now in ‘Staggeri...</td>\n",
       "      <td>science/technology</td>\n",
       "    </tr>\n",
       "    <tr>\n",
       "      <th>1</th>\n",
       "      <td>Watch This Black Hole Blow Bubbles</td>\n",
       "      <td>science/technology</td>\n",
       "    </tr>\n",
       "  </tbody>\n",
       "</table>\n",
       "</div>"
      ],
      "text/plain": [
       "                                               title  predicted_category\n",
       "2  Falling Jobless Rate Could Imperil Aid Underpi...            business\n",
       "3  OPEC and Russia Are Likely to Extend Oil Produ...            business\n",
       "5  15 Years Since Tom Cruise Infamously Jumped on...       entertainment\n",
       "6  YouTube is hosting a star-studded tribute to t...       entertainment\n",
       "4  Doctors Heavily Overprescribed Antibiotics Ear...              health\n",
       "0  The Sea’s Weirdest Creatures, Now in ‘Staggeri...  science/technology\n",
       "1                 Watch This Black Hole Blow Bubbles  science/technology"
      ]
     },
     "execution_count": 81,
     "metadata": {},
     "output_type": "execute_result"
    }
   ],
   "source": [
    "test_df['predicted_category'] = predict_categories_nn(model, titles)\n",
    "test_df.sort_values(by='predicted_category')"
   ]
  }
 ],
 "metadata": {
  "kernelspec": {
   "display_name": "python (ml_env)",
   "language": "python",
   "name": "ml_env"
  },
  "language_info": {
   "codemirror_mode": {
    "name": "ipython",
    "version": 3
   },
   "file_extension": ".py",
   "mimetype": "text/x-python",
   "name": "python",
   "nbconvert_exporter": "python",
   "pygments_lexer": "ipython3",
   "version": "3.7.1"
  }
 },
 "nbformat": 4,
 "nbformat_minor": 4
}
